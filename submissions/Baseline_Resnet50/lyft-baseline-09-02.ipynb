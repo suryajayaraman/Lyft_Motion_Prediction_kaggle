{
 "cells": [
  {
   "cell_type": "markdown",
   "metadata": {
    "papermill": {
     "duration": 0.012439,
     "end_time": "2020-10-01T18:39:48.470966",
     "exception": false,
     "start_time": "2020-10-01T18:39:48.458527",
     "status": "completed"
    },
    "tags": []
   },
   "source": [
    "## Lyft Baseline\n",
    "The following notebook performs evaluation using a simple baseline.\n",
    "The baseline has been **trained for 100k iterations with batch size 64 and history_num_frames 10** on the `train.zarr` dataset. All other parameters have been set to their default values as in [the original training configuration](https://github.com/lyft/l5kit/blob/3e3403b4d85fb99e7068cdffd0cd01d3f0d83138/examples/agent_motion_prediction/agent_motion_config.yaml)\n",
    "\n",
    "**Note:** The notebook has been updated to work with L5Kit 1.1.0 (already available in Kaggle)\n"
   ]
  },
  {
   "cell_type": "code",
   "execution_count": 1,
   "metadata": {
    "execution": {
     "iopub.execute_input": "2020-10-01T18:39:48.501879Z",
     "iopub.status.busy": "2020-10-01T18:39:48.500935Z",
     "iopub.status.idle": "2020-10-01T18:39:54.671906Z",
     "shell.execute_reply": "2020-10-01T18:39:54.671070Z"
    },
    "papermill": {
     "duration": 6.189641,
     "end_time": "2020-10-01T18:39:54.672145",
     "exception": false,
     "start_time": "2020-10-01T18:39:48.482504",
     "status": "completed"
    },
    "tags": []
   },
   "outputs": [],
   "source": [
    "#!jupyter nbconvert --version\n",
    "#!papermill --version"
   ]
  },
  {
   "cell_type": "code",
   "execution_count": 1,
   "metadata": {
    "execution": {
     "iopub.execute_input": "2020-10-01T18:39:54.704416Z",
     "iopub.status.busy": "2020-10-01T18:39:54.703355Z",
     "iopub.status.idle": "2020-10-01T18:39:54.714177Z",
     "shell.execute_reply": "2020-10-01T18:39:54.713518Z"
    },
    "papermill": {
     "duration": 0.028893,
     "end_time": "2020-10-01T18:39:54.714353",
     "exception": false,
     "start_time": "2020-10-01T18:39:54.685460",
     "status": "completed"
    },
    "tags": []
   },
   "outputs": [],
   "source": [
    "# ensure version of L5Kit\n",
    "import l5kit\n",
    "assert l5kit.__version__ == \"1.1.0\""
   ]
  },
  {
   "cell_type": "code",
   "execution_count": 2,
   "metadata": {
    "_cell_guid": "b1076dfc-b9ad-4769-8c92-a6c4dae69d19",
    "_uuid": "8f2839f25d086af736a60e9eeb907d3b93b6e0e5",
    "execution": {
     "iopub.execute_input": "2020-10-01T18:39:54.747738Z",
     "iopub.status.busy": "2020-10-01T18:39:54.746862Z",
     "iopub.status.idle": "2020-10-01T18:40:41.520845Z",
     "shell.execute_reply": "2020-10-01T18:40:41.520101Z"
    },
    "papermill": {
     "duration": 46.793819,
     "end_time": "2020-10-01T18:40:41.521027",
     "exception": false,
     "start_time": "2020-10-01T18:39:54.727208",
     "status": "completed"
    },
    "tags": []
   },
   "outputs": [],
   "source": [
    "import numpy as np\n",
    "import os\n",
    "import torch\n",
    "\n",
    "from l5kit.data import LocalDataManager, ChunkedDataset\n",
    "from l5kit.geometry import transform_points\n",
    "from l5kit.dataset import AgentDataset\n",
    "from l5kit.evaluation import write_pred_csv\n",
    "from l5kit.rasterization import build_rasterizer\n",
    "\n",
    "from torch import nn, optim\n",
    "from torch.utils.data import DataLoader\n",
    "from torchvision.models.resnet import resnet50\n",
    "from typing import Dict\n",
    "from tqdm import tqdm"
   ]
  },
  {
   "cell_type": "markdown",
   "metadata": {
    "papermill": {
     "duration": 0.013363,
     "end_time": "2020-10-01T18:40:41.548233",
     "exception": false,
     "start_time": "2020-10-01T18:40:41.534870",
     "status": "completed"
    },
    "tags": []
   },
   "source": [
    "> ## Build Baseline Model"
   ]
  },
  {
   "cell_type": "code",
   "execution_count": 3,
   "metadata": {
    "_cell_guid": "79c7e3d0-c299-4dcb-8224-4455121ee9b0",
    "_uuid": "d629ff2d2480ee46fbb7e2d37f6b5fab8052498a",
    "execution": {
     "iopub.execute_input": "2020-10-01T18:40:41.587024Z",
     "iopub.status.busy": "2020-10-01T18:40:41.586077Z",
     "iopub.status.idle": "2020-10-01T18:40:41.589427Z",
     "shell.execute_reply": "2020-10-01T18:40:41.590207Z"
    },
    "papermill": {
     "duration": 0.028923,
     "end_time": "2020-10-01T18:40:41.590417",
     "exception": false,
     "start_time": "2020-10-01T18:40:41.561494",
     "status": "completed"
    },
    "tags": []
   },
   "outputs": [],
   "source": [
    "def build_model(cfg: Dict) -> torch.nn.Module:\n",
    "    # load pre-trained Conv2D model\n",
    "    model = resnet50(pretrained=False)\n",
    "\n",
    "    # change input channels number to match the rasterizer's output\n",
    "    num_history_channels = (cfg[\"model_params\"][\"history_num_frames\"] + 1) * 2\n",
    "    num_in_channels = 3 + num_history_channels\n",
    "    model.conv1 = nn.Conv2d(\n",
    "        num_in_channels,\n",
    "        model.conv1.out_channels,\n",
    "        kernel_size=model.conv1.kernel_size,\n",
    "        stride=model.conv1.stride,\n",
    "        padding=model.conv1.padding,\n",
    "        bias=False,\n",
    "    )\n",
    "    # change output size to (X, Y) * number of future states\n",
    "    num_targets = 2 * cfg[\"model_params\"][\"future_num_frames\"]\n",
    "    model.fc = nn.Linear(in_features=2048, out_features=num_targets)\n",
    "\n",
    "    return model\n",
    "\n",
    "def forward(data, model, device):\n",
    "    inputs = data[\"image\"].to(device)\n",
    "    target_availabilities = data[\"target_availabilities\"].unsqueeze(-1).to(device)\n",
    "    targets = data[\"target_positions\"].to(device)\n",
    "    # Forward pass\n",
    "    outputs = model(inputs).reshape(targets.shape)\n",
    "    return outputs"
   ]
  },
  {
   "cell_type": "markdown",
   "metadata": {
    "papermill": {
     "duration": 0.013555,
     "end_time": "2020-10-01T18:40:41.617906",
     "exception": false,
     "start_time": "2020-10-01T18:40:41.604351",
     "status": "completed"
    },
    "tags": []
   },
   "source": [
    "## Set the Configuration for the experiment"
   ]
  },
  {
   "cell_type": "code",
   "execution_count": 8,
   "metadata": {
    "execution": {
     "iopub.execute_input": "2020-10-01T18:40:41.655954Z",
     "iopub.status.busy": "2020-10-01T18:40:41.654785Z",
     "iopub.status.idle": "2020-10-01T18:40:41.662112Z",
     "shell.execute_reply": "2020-10-01T18:40:41.661016Z"
    },
    "papermill": {
     "duration": 0.030958,
     "end_time": "2020-10-01T18:40:41.662353",
     "exception": false,
     "start_time": "2020-10-01T18:40:41.631395",
     "status": "completed"
    },
    "tags": []
   },
   "outputs": [],
   "source": [
    "os.environ[\"L5KIT_DATA_FOLDER\"] = \"lyft-motion-prediction-autonomous-vehicles\"\n",
    "dm = LocalDataManager(None)\n",
    "\n",
    "cfg = {\n",
    "    'format_version': 4,\n",
    "    'model_params': {\n",
    "        'history_num_frames': 10,\n",
    "        'history_step_size': 1,\n",
    "        'history_delta_time': 0.1,\n",
    "        'future_num_frames': 50,\n",
    "        'future_step_size': 1,\n",
    "        'future_delta_time': 0.1\n",
    "    },\n",
    "    \n",
    "    'raster_params': {\n",
    "        'raster_size': [224, 224],\n",
    "        'pixel_size': [0.5, 0.5],\n",
    "        'ego_center': [0.25, 0.5],\n",
    "        'map_type': 'py_semantic',\n",
    "        'semantic_map_key': 'semantic_map/semantic_map.pb',\n",
    "        'dataset_meta_key': 'meta.json',\n",
    "        'filter_agents_threshold': 0.5\n",
    "    },\n",
    "    \n",
    "    'test_data_loader': {\n",
    "        'key': 'scenes/test.zarr',\n",
    "        'batch_size': 12,\n",
    "        'shuffle': False,\n",
    "        'num_workers': 0\n",
    "    }\n",
    "\n",
    "}"
   ]
  },
  {
   "cell_type": "markdown",
   "metadata": {
    "papermill": {
     "duration": 0.015807,
     "end_time": "2020-10-01T18:40:41.694197",
     "exception": false,
     "start_time": "2020-10-01T18:40:41.678390",
     "status": "completed"
    },
    "tags": []
   },
   "source": [
    "## Build Dataset (with mask) and Dataloader"
   ]
  },
  {
   "cell_type": "code",
   "execution_count": 9,
   "metadata": {
    "execution": {
     "iopub.execute_input": "2020-10-01T18:40:41.732469Z",
     "iopub.status.busy": "2020-10-01T18:40:41.731333Z",
     "iopub.status.idle": "2020-10-01T18:40:50.657195Z",
     "shell.execute_reply": "2020-10-01T18:40:50.658105Z"
    },
    "papermill": {
     "duration": 8.95002,
     "end_time": "2020-10-01T18:40:50.658328",
     "exception": false,
     "start_time": "2020-10-01T18:40:41.708308",
     "status": "completed"
    },
    "tags": []
   },
   "outputs": [
    {
     "name": "stderr",
     "output_type": "stream",
     "text": [
      "/home/wabco/miniconda3/envs/lyft/lib/python3.6/site-packages/ipykernel_launcher.py:8: RuntimeWarning: you're running with a custom agents_mask\n",
      "  \n"
     ]
    },
    {
     "name": "stdout",
     "output_type": "stream",
     "text": [
      "+------------+------------+------------+---------------+-----------------+----------------------+----------------------+----------------------+---------------------+\n",
      "| Num Scenes | Num Frames | Num Agents | Num TR lights | Total Time (hr) | Avg Frames per Scene | Avg Agents per Frame | Avg Scene Time (sec) | Avg Frame frequency |\n",
      "+------------+------------+------------+---------------+-----------------+----------------------+----------------------+----------------------+---------------------+\n",
      "|   11314    |  1131400   |  88594921  |    7854144    |      31.43      |        100.00        |        78.31         |        10.00         |        10.00        |\n",
      "+------------+------------+------------+---------------+-----------------+----------------------+----------------------+----------------------+---------------------+\n"
     ]
    }
   ],
   "source": [
    "# ===== INIT DATASET\n",
    "test_cfg = cfg[\"test_data_loader\"]\n",
    "\n",
    "test_zarr = ChunkedDataset(dm.require(test_cfg[\"key\"])).open()\n",
    "test_mask = np.load(\"lyft-motion-prediction-autonomous-vehicles/scenes/mask.npz\")[\"arr_0\"]\n",
    "\n",
    "rasterizer = build_rasterizer(cfg, dm)\n",
    "test_dataset = AgentDataset(cfg, test_zarr, rasterizer, agents_mask=test_mask)\n",
    "test_dataloader = DataLoader(test_dataset,\n",
    "                             shuffle=test_cfg[\"shuffle\"],\n",
    "                             batch_size=test_cfg[\"batch_size\"],\n",
    "                             num_workers=test_cfg[\"num_workers\"])\n",
    "print(test_dataset)"
   ]
  },
  {
   "cell_type": "markdown",
   "metadata": {
    "papermill": {
     "duration": 0.01617,
     "end_time": "2020-10-01T18:40:50.690194",
     "exception": false,
     "start_time": "2020-10-01T18:40:50.674024",
     "status": "completed"
    },
    "tags": []
   },
   "source": [
    "## Instantiate the Model and Load Weights"
   ]
  },
  {
   "cell_type": "code",
   "execution_count": 10,
   "metadata": {
    "execution": {
     "iopub.execute_input": "2020-10-01T18:40:50.728912Z",
     "iopub.status.busy": "2020-10-01T18:40:50.728023Z",
     "iopub.status.idle": "2020-10-01T18:40:51.472204Z",
     "shell.execute_reply": "2020-10-01T18:40:51.472885Z"
    },
    "papermill": {
     "duration": 0.768638,
     "end_time": "2020-10-01T18:40:51.473101",
     "exception": false,
     "start_time": "2020-10-01T18:40:50.704463",
     "status": "completed"
    },
    "tags": []
   },
   "outputs": [],
   "source": [
    "# ==== INIT MODEL\n",
    "device = torch.device(\"cuda:0\" if torch.cuda.is_available() else \"cpu\")\n",
    "model = build_model(cfg).to(device)\n",
    "\n",
    "model.load_state_dict(torch.load(\"baseline_weights.pth\", map_location=device))"
   ]
  },
  {
   "cell_type": "code",
   "execution_count": 11,
   "metadata": {},
   "outputs": [
    {
     "data": {
      "text/plain": [
       "device(type='cuda', index=0)"
      ]
     },
     "execution_count": 11,
     "metadata": {},
     "output_type": "execute_result"
    }
   ],
   "source": [
    "device"
   ]
  },
  {
   "cell_type": "markdown",
   "metadata": {
    "papermill": {
     "duration": 0.014543,
     "end_time": "2020-10-01T18:40:51.503085",
     "exception": false,
     "start_time": "2020-10-01T18:40:51.488542",
     "status": "completed"
    },
    "tags": []
   },
   "source": [
    "### Ensure coordinates are stored in the correct reference system\n",
    "Because predictions are now (from l5kit 1.1.0) in `agent` space we need to convert them back to `world` displacements before storing them."
   ]
  },
  {
   "cell_type": "code",
   "execution_count": 12,
   "metadata": {
    "execution": {
     "iopub.execute_input": "2020-10-01T18:40:51.546136Z",
     "iopub.status.busy": "2020-10-01T18:40:51.545039Z",
     "iopub.status.idle": "2020-10-01T23:15:45.832201Z",
     "shell.execute_reply": "2020-10-01T23:15:45.831179Z"
    },
    "papermill": {
     "duration": 16494.31429,
     "end_time": "2020-10-01T23:15:45.832501",
     "exception": false,
     "start_time": "2020-10-01T18:40:51.518211",
     "status": "completed"
    },
    "tags": []
   },
   "outputs": [
    {
     "name": "stderr",
     "output_type": "stream",
     "text": [
      "  0%|          | 0/5927 [00:00<?, ?it/s]/home/wabco/miniconda3/envs/lyft/lib/python3.6/site-packages/l5kit/dataset/agent.py:115: RuntimeWarning: disable_traffic_light_faces not found in config, this will raise an error in the future\n",
      "  return self.get_frame(scene_index, state_index, track_id=track_id)\n",
      "100%|██████████| 5927/5927 [1:38:22<00:00,  1.00it/s]\n"
     ]
    }
   ],
   "source": [
    "# ==== EVAL LOOP\n",
    "model.eval()\n",
    "torch.set_grad_enabled(False)\n",
    "\n",
    "# store information for evaluation\n",
    "future_coords_offsets_pd = []\n",
    "timestamps = []\n",
    "agent_ids = []\n",
    "\n",
    "progress_bar = tqdm(test_dataloader)\n",
    "for data in progress_bar:\n",
    "    \n",
    "    # convert agent coordinates into world offsets\n",
    "    agents_coords = forward(data, model, device).cpu().numpy().copy()\n",
    "    world_from_agents = data[\"world_from_agent\"].numpy()\n",
    "    centroids = data[\"centroid\"].numpy()\n",
    "    coords_offset = []\n",
    "    \n",
    "    for agent_coords, world_from_agent, centroid in zip(agents_coords, world_from_agents, centroids):\n",
    "        coords_offset.append(transform_points(agent_coords, world_from_agent) - centroid[:2])\n",
    "    \n",
    "    future_coords_offsets_pd.append(np.stack(coords_offset))\n",
    "    timestamps.append(data[\"timestamp\"].numpy().copy())\n",
    "    agent_ids.append(data[\"track_id\"].numpy().copy())"
   ]
  },
  {
   "cell_type": "code",
   "execution_count": 13,
   "metadata": {
    "execution": {
     "iopub.execute_input": "2020-10-01T23:15:50.674033Z",
     "iopub.status.busy": "2020-10-01T23:15:50.673152Z",
     "iopub.status.idle": "2020-10-01T23:16:29.821462Z",
     "shell.execute_reply": "2020-10-01T23:16:29.820675Z"
    },
    "papermill": {
     "duration": 41.570808,
     "end_time": "2020-10-01T23:16:29.821647",
     "exception": false,
     "start_time": "2020-10-01T23:15:48.250839",
     "status": "completed"
    },
    "tags": []
   },
   "outputs": [],
   "source": [
    "write_pred_csv(\"submission.csv\",\n",
    "               timestamps=np.concatenate(timestamps),\n",
    "               track_ids=np.concatenate(agent_ids),\n",
    "               coords=np.concatenate(future_coords_offsets_pd),\n",
    "              )"
   ]
  }
 ],
 "metadata": {
  "kernelspec": {
   "display_name": "Python(lyft_kaggle)",
   "language": "python",
   "name": "lyft"
  },
  "language_info": {
   "codemirror_mode": {
    "name": "ipython",
    "version": 3
   },
   "file_extension": ".py",
   "mimetype": "text/x-python",
   "name": "python",
   "nbconvert_exporter": "python",
   "pygments_lexer": "ipython3",
   "version": "3.6.12"
  },
  "papermill": {
   "duration": 16622.754643,
   "end_time": "2020-10-01T23:16:33.575546",
   "environment_variables": {},
   "exception": null,
   "input_path": "__notebook__.ipynb",
   "output_path": "__notebook__.ipynb",
   "parameters": {},
   "start_time": "2020-10-01T18:39:30.820903",
   "version": "2.1.0"
  }
 },
 "nbformat": 4,
 "nbformat_minor": 4
}
