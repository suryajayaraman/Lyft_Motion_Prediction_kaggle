{
 "cells": [
  {
   "cell_type": "markdown",
   "metadata": {},
   "source": [
    "## Import Libraries"
   ]
  },
  {
   "cell_type": "code",
   "execution_count": 1,
   "metadata": {
    "execution": {
     "iopub.execute_input": "2020-10-27T07:08:30.007123Z",
     "iopub.status.busy": "2020-10-27T07:08:30.006243Z",
     "iopub.status.idle": "2020-10-27T07:08:35.130068Z",
     "shell.execute_reply": "2020-10-27T07:08:35.128823Z"
    },
    "papermill": {
     "duration": 5.164162,
     "end_time": "2020-10-27T07:08:35.130221",
     "exception": false,
     "start_time": "2020-10-27T07:08:29.966059",
     "status": "completed"
    },
    "tags": []
   },
   "outputs": [],
   "source": [
    "from typing import Dict\n",
    "\n",
    "from tempfile import gettempdir\n",
    "import matplotlib.pyplot as plt\n",
    "import numpy as np\n",
    "import pandas as pd\n",
    "import torch\n",
    "from torch import nn, optim\n",
    "from torch.utils.data import DataLoader, SubsetRandomSampler\n",
    "from torchvision.models.resnet import resnet50, resnet18, resnet34, resnet101\n",
    "import torch.nn.functional as F\n",
    "from tqdm import tqdm\n",
    "\n",
    "import l5kit\n",
    "from l5kit.configs import load_config_data\n",
    "from l5kit.data import LocalDataManager, ChunkedDataset\n",
    "from l5kit.dataset import AgentDataset, EgoDataset\n",
    "from l5kit.rasterization import build_rasterizer\n",
    "from l5kit.evaluation import write_pred_csv, compute_metrics_csv, read_gt_csv, create_chopped_dataset\n",
    "from l5kit.evaluation.chop_dataset import MIN_FUTURE_STEPS\n",
    "from l5kit.evaluation.metrics import neg_multi_log_likelihood, time_displace\n",
    "from l5kit.geometry import transform_points\n",
    "from l5kit.visualization import PREDICTED_POINTS_COLOR, TARGET_POINTS_COLOR, draw_trajectory\n",
    "from prettytable import PrettyTable\n",
    "from pathlib import Path\n",
    "\n",
    "import matplotlib.pyplot as plt\n",
    "\n",
    "import os\n",
    "import random\n",
    "import time\n",
    "\n",
    "import warnings\n",
    "warnings.filterwarnings(\"ignore\")"
   ]
  },
  {
   "cell_type": "code",
   "execution_count": 2,
   "metadata": {
    "execution": {
     "iopub.execute_input": "2020-10-27T07:08:35.191321Z",
     "iopub.status.busy": "2020-10-27T07:08:35.190176Z",
     "iopub.status.idle": "2020-10-27T07:08:35.194924Z",
     "shell.execute_reply": "2020-10-27T07:08:35.195499Z"
    },
    "papermill": {
     "duration": 0.039257,
     "end_time": "2020-10-27T07:08:35.195647",
     "exception": false,
     "start_time": "2020-10-27T07:08:35.156390",
     "status": "completed"
    },
    "tags": []
   },
   "outputs": [
    {
     "data": {
      "text/plain": [
       "'1.1.0'"
      ]
     },
     "execution_count": 2,
     "metadata": {},
     "output_type": "execute_result"
    }
   ],
   "source": [
    "l5kit.__version__"
   ]
  },
  {
   "cell_type": "code",
   "execution_count": 3,
   "metadata": {
    "execution": {
     "iopub.execute_input": "2020-10-27T07:08:35.619047Z",
     "iopub.status.busy": "2020-10-27T07:08:35.618262Z",
     "iopub.status.idle": "2020-10-27T07:08:35.626209Z",
     "shell.execute_reply": "2020-10-27T07:08:35.625648Z"
    },
    "papermill": {
     "duration": 0.404212,
     "end_time": "2020-10-27T07:08:35.626330",
     "exception": false,
     "start_time": "2020-10-27T07:08:35.222118",
     "status": "completed"
    },
    "tags": []
   },
   "outputs": [
    {
     "data": {
      "text/plain": [
       "True"
      ]
     },
     "execution_count": 3,
     "metadata": {},
     "output_type": "execute_result"
    }
   ],
   "source": [
    "torch.cuda.is_available()"
   ]
  },
  {
   "cell_type": "markdown",
   "metadata": {},
   "source": [
    "## Helper functions"
   ]
  },
  {
   "cell_type": "markdown",
   "metadata": {},
   "source": [
    "### Number of trainable parameters in model"
   ]
  },
  {
   "cell_type": "code",
   "execution_count": 4,
   "metadata": {
    "execution": {
     "iopub.execute_input": "2020-10-27T07:08:35.686774Z",
     "iopub.status.busy": "2020-10-27T07:08:35.686087Z",
     "iopub.status.idle": "2020-10-27T07:08:35.690318Z",
     "shell.execute_reply": "2020-10-27T07:08:35.690822Z"
    },
    "papermill": {
     "duration": 0.036933,
     "end_time": "2020-10-27T07:08:35.691023",
     "exception": false,
     "start_time": "2020-10-27T07:08:35.654090",
     "status": "completed"
    },
    "tags": []
   },
   "outputs": [],
   "source": [
    "def find_no_of_trainable_params(model):\n",
    "    total_trainable_params = sum(p.numel() for p in model.parameters() if p.requires_grad)\n",
    "    #print(total_trainable_params)\n",
    "    return total_trainable_params"
   ]
  },
  {
   "cell_type": "markdown",
   "metadata": {},
   "source": [
    "### Random seed generation function"
   ]
  },
  {
   "cell_type": "code",
   "execution_count": 5,
   "metadata": {
    "execution": {
     "iopub.execute_input": "2020-10-27T07:08:35.751967Z",
     "iopub.status.busy": "2020-10-27T07:08:35.751154Z",
     "iopub.status.idle": "2020-10-27T07:08:35.758437Z",
     "shell.execute_reply": "2020-10-27T07:08:35.757764Z"
    },
    "papermill": {
     "duration": 0.040613,
     "end_time": "2020-10-27T07:08:35.758561",
     "exception": false,
     "start_time": "2020-10-27T07:08:35.717948",
     "status": "completed"
    },
    "tags": []
   },
   "outputs": [],
   "source": [
    "def set_seed(seed):\n",
    "    random.seed(seed)\n",
    "    np.random.seed(seed)\n",
    "    os.environ[\"PYTHONHASHSEED\"] = str(seed)\n",
    "    torch.manual_seed(seed)\n",
    "    torch.cuda.manual_seed(seed)\n",
    "    \n",
    "set_seed(42)"
   ]
  },
  {
   "cell_type": "code",
   "execution_count": 6,
   "metadata": {
    "execution": {
     "iopub.execute_input": "2020-10-27T07:08:35.818579Z",
     "iopub.status.busy": "2020-10-27T07:08:35.817685Z",
     "iopub.status.idle": "2020-10-27T07:08:35.822405Z",
     "shell.execute_reply": "2020-10-27T07:08:35.821766Z"
    },
    "papermill": {
     "duration": 0.036343,
     "end_time": "2020-10-27T07:08:35.822544",
     "exception": false,
     "start_time": "2020-10-27T07:08:35.786201",
     "status": "completed"
    },
    "tags": []
   },
   "outputs": [],
   "source": [
    "#!rm /kaggle/working/*"
   ]
  },
  {
   "cell_type": "markdown",
   "metadata": {
    "papermill": {
     "duration": 0.029955,
     "end_time": "2020-10-27T07:09:36.407814",
     "exception": false,
     "start_time": "2020-10-27T07:09:36.377859",
     "status": "completed"
    },
    "tags": []
   },
   "source": [
    "### Loss function"
   ]
  },
  {
   "cell_type": "code",
   "execution_count": 17,
   "metadata": {
    "execution": {
     "iopub.execute_input": "2020-10-27T07:09:36.489510Z",
     "iopub.status.busy": "2020-10-27T07:09:36.475721Z",
     "iopub.status.idle": "2020-10-27T07:09:36.492632Z",
     "shell.execute_reply": "2020-10-27T07:09:36.492053Z"
    },
    "papermill": {
     "duration": 0.055305,
     "end_time": "2020-10-27T07:09:36.492737",
     "exception": false,
     "start_time": "2020-10-27T07:09:36.437432",
     "status": "completed"
    },
    "tags": []
   },
   "outputs": [],
   "source": [
    "# --- Function utils ---\n",
    "# Original code from https://github.com/lyft/l5kit/blob/20ab033c01610d711c3d36e1963ecec86e8b85b6/l5kit/l5kit/evaluation/metrics.py\n",
    "from torch import Tensor\n",
    "\n",
    "\n",
    "def pytorch_neg_multi_log_likelihood_batch(\n",
    "    gt: Tensor, pred: Tensor, confidences: Tensor, avails: Tensor\n",
    ") -> Tensor:\n",
    "    \"\"\"\n",
    "    Compute a negative log-likelihood for the multi-modal scenario.\n",
    "    log-sum-exp trick is used here to avoid underflow and overflow, For more information about it see:\n",
    "    https://en.wikipedia.org/wiki/LogSumExp#log-sum-exp_trick_for_log-domain_calculations\n",
    "    https://timvieira.github.io/blog/post/2014/02/11/exp-normalize-trick/\n",
    "    https://leimao.github.io/blog/LogSumExp/\n",
    "    Args:\n",
    "        gt (Tensor): array of shape (bs)x(time)x(2D coords)\n",
    "        pred (Tensor): array of shape (bs)x(modes)x(time)x(2D coords)\n",
    "        confidences (Tensor): array of shape (bs)x(modes) with a confidence for each mode in each sample\n",
    "        avails (Tensor): array of shape (bs)x(time) with the availability for each gt timestep\n",
    "    Returns:\n",
    "        Tensor: negative log-likelihood for this example, a single float number\n",
    "    \"\"\"\n",
    "    assert len(pred.shape) == 4, f\"expected 3D (MxTxC) array for pred, got {pred.shape}\"\n",
    "    batch_size, num_modes, future_len, num_coords = pred.shape\n",
    "\n",
    "    assert gt.shape == (batch_size, future_len, num_coords), f\"expected 2D (Time x Coords) array for gt, got {gt.shape}\"\n",
    "    assert confidences.shape == (batch_size, num_modes), f\"expected 1D (Modes) array for gt, got {confidences.shape}\"\n",
    "    assert torch.allclose(torch.sum(confidences, dim=1), confidences.new_ones((batch_size,))), \"confidences should sum to 1\"\n",
    "    assert avails.shape == (batch_size, future_len), f\"expected 1D (Time) array for gt, got {avails.shape}\"\n",
    "    # assert all data are valid\n",
    "    assert torch.isfinite(pred).all(), \"invalid value found in pred\"\n",
    "    assert torch.isfinite(gt).all(), \"invalid value found in gt\"\n",
    "    assert torch.isfinite(confidences).all(), \"invalid value found in confidences\"\n",
    "    assert torch.isfinite(avails).all(), \"invalid value found in avails\"\n",
    "\n",
    "    # convert to (batch_size, num_modes, future_len, num_coords)\n",
    "    gt = torch.unsqueeze(gt, 1)  # add modes\n",
    "    avails = avails[:, None, :, None]  # add modes and cords\n",
    "\n",
    "    # error (batch_size, num_modes, future_len)\n",
    "    error = torch.sum(((gt - pred) * avails) ** 2, dim=-1)  # reduce coords and use availability\n",
    "\n",
    "    with np.errstate(divide=\"ignore\"):  # when confidence is 0 log goes to -inf, but we're fine with it\n",
    "        # error (batch_size, num_modes)\n",
    "        error = torch.log(confidences) - 0.5 * torch.sum(error, dim=-1)  # reduce time\n",
    "\n",
    "    # use max aggregator on modes for numerical stability\n",
    "    # error (batch_size, num_modes)\n",
    "    max_value, _ = error.max(dim=1, keepdim=True)  # error are negative at this point, so max() gives the minimum one\n",
    "    error = -torch.log(torch.sum(torch.exp(error - max_value), dim=-1, keepdim=True)) - max_value  # reduce modes\n",
    "    # print(\"error\", error)\n",
    "    return torch.mean(error)\n",
    "\n",
    "\n",
    "def pytorch_neg_multi_log_likelihood_single(\n",
    "    gt: Tensor, pred: Tensor, avails: Tensor\n",
    ") -> Tensor:\n",
    "    \"\"\"\n",
    "\n",
    "    Args:\n",
    "        gt (Tensor): array of shape (bs)x(time)x(2D coords)\n",
    "        pred (Tensor): array of shape (bs)x(time)x(2D coords)\n",
    "        avails (Tensor): array of shape (bs)x(time) with the availability for each gt timestep\n",
    "    Returns:\n",
    "        Tensor: negative log-likelihood for this example, a single float number\n",
    "    \"\"\"\n",
    "    # pred (bs)x(time)x(2D coords) --> (bs)x(mode=1)x(time)x(2D coords)\n",
    "    # create confidence (bs)x(mode=1)\n",
    "    batch_size, future_len, num_coords = pred.shape\n",
    "    confidences = pred.new_ones((batch_size, 1))\n",
    "    return pytorch_neg_multi_log_likelihood_batch(gt, pred.unsqueeze(1), confidences, avails)"
   ]
  },
  {
   "cell_type": "markdown",
   "metadata": {
    "papermill": {
     "duration": 0.027167,
     "end_time": "2020-10-27T07:08:35.877164",
     "exception": false,
     "start_time": "2020-10-27T07:08:35.849997",
     "status": "completed"
    },
    "tags": []
   },
   "source": [
    "## Configs"
   ]
  },
  {
   "cell_type": "code",
   "execution_count": 7,
   "metadata": {
    "execution": {
     "iopub.execute_input": "2020-10-27T07:08:35.954307Z",
     "iopub.status.busy": "2020-10-27T07:08:35.949367Z",
     "iopub.status.idle": "2020-10-27T07:08:35.957189Z",
     "shell.execute_reply": "2020-10-27T07:08:35.956602Z"
    },
    "papermill": {
     "duration": 0.049453,
     "end_time": "2020-10-27T07:08:35.957318",
     "exception": false,
     "start_time": "2020-10-27T07:08:35.907865",
     "status": "completed"
    },
    "tags": []
   },
   "outputs": [],
   "source": [
    "# --- Lyft configs ---\n",
    "cfg = {\n",
    "    'format_version': 4,\n",
    "    'data_path': \"../../lyft-motion-prediction-autonomous-vehicles/\",\n",
    "    'model_params': {\n",
    "        'model_architecture': 'resnet34',\n",
    "        'history_num_frames': 10,\n",
    "        'history_step_size': 1,\n",
    "        'history_delta_time': 0.1,\n",
    "        'future_num_frames': 50,\n",
    "        'future_step_size': 1,\n",
    "        'future_delta_time': 0.1,\n",
    "        'model_name': \"R34_pvt_10_224_nll_multimode\",\n",
    "        'lr': 1e-3,\n",
    "        'weight_path': \"\",\n",
    "        'train': True,\n",
    "        'predict': False\n",
    "    },\n",
    "\n",
    "    'raster_params': {\n",
    "        'raster_size': [224, 224],\n",
    "        'pixel_size': [0.5, 0.5],\n",
    "        'ego_center': [0.25, 0.5],\n",
    "        'map_type': 'py_semantic',\n",
    "        'satellite_map_key': 'aerial_map/aerial_map.png',\n",
    "        'semantic_map_key': 'semantic_map/semantic_map.pb',\n",
    "        'dataset_meta_key': 'meta.json',\n",
    "        'filter_agents_threshold': 0.5\n",
    "    },\n",
    "\n",
    "    'train_data_loader': {\n",
    "        'key': 'scenes/train.zarr',\n",
    "        'batch_size': 16,\n",
    "        'shuffle': True,\n",
    "        'num_workers': 4\n",
    "    },\n",
    "    \n",
    "    'test_data_loader': {\n",
    "        'key': 'scenes/test.zarr',\n",
    "        'batch_size': 32,\n",
    "        'shuffle': False,\n",
    "        'num_workers': 4\n",
    "    },\n",
    "\n",
    "    'train_params': {\n",
    "        'train_start_index' : 0,\n",
    "        'max_num_steps': 25,\n",
    "        'checkpoint_every_n_steps': 5,\n",
    "    }\n",
    "}"
   ]
  },
  {
   "cell_type": "code",
   "execution_count": 8,
   "metadata": {
    "execution": {
     "iopub.execute_input": "2020-10-27T07:08:36.029079Z",
     "iopub.status.busy": "2020-10-27T07:08:36.028179Z",
     "iopub.status.idle": "2020-10-27T07:08:36.030808Z",
     "shell.execute_reply": "2020-10-27T07:08:36.031350Z"
    },
    "papermill": {
     "duration": 0.043984,
     "end_time": "2020-10-27T07:08:36.031559",
     "exception": false,
     "start_time": "2020-10-27T07:08:35.987575",
     "status": "completed"
    },
    "tags": []
   },
   "outputs": [],
   "source": [
    "NUMBER_OF_HISTORY_FRAMES = cfg['model_params']['history_num_frames'] + 1\n",
    "RASTER_IMG_SIZE = cfg['raster_params']['raster_size'][0]\n",
    "NUM_MODES = 3\n",
    "NUMBER_OF_FUTURE_FRAMES = cfg['model_params']['future_num_frames']\n",
    "TRAIN_BATCH_SIZE = cfg['train_data_loader']['batch_size'] \n",
    "### TRAIN FROM WHERE LEFT OFF, CHANGE THE STARTING INDICES VARIABLE ACCORDINGLY\n",
    "TRAIN_START_INDICES = cfg['train_params']['train_start_index']"
   ]
  },
  {
   "cell_type": "markdown",
   "metadata": {
    "papermill": {
     "duration": 0.029697,
     "end_time": "2020-10-27T07:09:36.552889",
     "exception": false,
     "start_time": "2020-10-27T07:09:36.523192",
     "status": "completed"
    },
    "tags": []
   },
   "source": [
    "## Model"
   ]
  },
  {
   "cell_type": "markdown",
   "metadata": {
    "papermill": {
     "duration": 0.030105,
     "end_time": "2020-10-27T07:09:36.613338",
     "exception": false,
     "start_time": "2020-10-27T07:09:36.583233",
     "status": "completed"
    },
    "tags": []
   },
   "source": [
    "Next we define the baseline model. Note that this model will return three possible trajectories together with confidence score for each trajectory."
   ]
  },
  {
   "cell_type": "code",
   "execution_count": 18,
   "metadata": {
    "execution": {
     "iopub.execute_input": "2020-10-27T07:09:36.698477Z",
     "iopub.status.busy": "2020-10-27T07:09:36.694273Z",
     "iopub.status.idle": "2020-10-27T07:09:36.701450Z",
     "shell.execute_reply": "2020-10-27T07:09:36.700870Z"
    },
    "papermill": {
     "duration": 0.057549,
     "end_time": "2020-10-27T07:09:36.701569",
     "exception": false,
     "start_time": "2020-10-27T07:09:36.644020",
     "status": "completed"
    },
    "tags": []
   },
   "outputs": [],
   "source": [
    "class LyftMultiModel(nn.Module):\n",
    "\n",
    "    def __init__(self, cfg: Dict, num_modes=3):\n",
    "        super().__init__()\n",
    "\n",
    "        architecture = cfg[\"model_params\"][\"model_architecture\"]\n",
    "        backbone = eval(architecture)(pretrained=True)\n",
    "        self.backbone = backbone\n",
    "\n",
    "        num_history_channels = (cfg[\"model_params\"][\"history_num_frames\"] + 1) * 2\n",
    "        num_in_channels = 3 + num_history_channels\n",
    "\n",
    "        self.backbone.conv1 = nn.Conv2d(\n",
    "            num_in_channels,\n",
    "            self.backbone.conv1.out_channels,\n",
    "            kernel_size=self.backbone.conv1.kernel_size,\n",
    "            stride=self.backbone.conv1.stride,\n",
    "            padding=self.backbone.conv1.padding,\n",
    "            bias=False,\n",
    "        )\n",
    "\n",
    "        # This is 512 for resnet18 and resnet34;\n",
    "        # And it is 2048 for the other resnets\n",
    "        \n",
    "        if architecture == \"resnet50\":\n",
    "            backbone_out_features = 2048\n",
    "        else:\n",
    "            backbone_out_features = 512\n",
    "\n",
    "        self.dropout = nn.Dropout(p=0.3)\n",
    "            \n",
    "        # X, Y coords for the future positions (output shape: batch_sizex50x2)\n",
    "        self.future_len = cfg[\"model_params\"][\"future_num_frames\"]\n",
    "        num_targets = 2 * self.future_len\n",
    "        other_agent_features = num_history_channels + 6\n",
    "        total_num_features = backbone_out_features + other_agent_features\n",
    "        self.head = nn.Linear(in_features=total_num_features, out_features=1024)\n",
    "\n",
    "        # final prediction - a fc layer with desired number of outputs, no activation\n",
    "        self.num_preds = num_targets * num_modes\n",
    "        self.num_modes = num_modes\n",
    "        self.logit = nn.Linear(1024, out_features=self.num_preds + num_modes)\n",
    "\n",
    "    def forward(self, x, agent_data):\n",
    "        x = self.backbone.conv1(x)\n",
    "        x = self.backbone.bn1(x)\n",
    "        x = self.backbone.relu(x)\n",
    "        x = self.backbone.maxpool(x)\n",
    "\n",
    "        x = self.backbone.layer1(x)\n",
    "        x = self.backbone.layer2(x)\n",
    "        x = self.backbone.layer3(x)\n",
    "        x = self.backbone.layer4(x)\n",
    "\n",
    "        x = self.backbone.avgpool(x)\n",
    "        x = torch.flatten(x, 1)\n",
    "        \n",
    "        # adding other agent data to image data\n",
    "        x = torch.cat((x, agent_data), dim=1)\n",
    "\n",
    "        # fc with relu activation and dropout\n",
    "        x = self.dropout(F.relu(self.head(x)))\n",
    "        x = self.logit(x)\n",
    "\n",
    "        # pred (batch_size)x(modes)x(time)x(2D coords)\n",
    "        # confidences (batch_size)x(modes)\n",
    "        bs, _ = x.shape\n",
    "        pred, confidences = torch.split(x, self.num_preds, dim=1)\n",
    "        pred = pred.view(bs, self.num_modes, self.future_len, 2)\n",
    "        assert confidences.shape == (bs, self.num_modes)\n",
    "        confidences = torch.softmax(confidences, dim=1)\n",
    "        return pred, confidences"
   ]
  },
  {
   "cell_type": "code",
   "execution_count": 19,
   "metadata": {
    "execution": {
     "iopub.execute_input": "2020-10-27T07:09:36.772689Z",
     "iopub.status.busy": "2020-10-27T07:09:36.770861Z",
     "iopub.status.idle": "2020-10-27T07:09:36.773470Z",
     "shell.execute_reply": "2020-10-27T07:09:36.774028Z"
    },
    "papermill": {
     "duration": 0.042106,
     "end_time": "2020-10-27T07:09:36.774166",
     "exception": false,
     "start_time": "2020-10-27T07:09:36.732060",
     "status": "completed"
    },
    "tags": []
   },
   "outputs": [],
   "source": [
    "def forward(data, model, device, criterion = pytorch_neg_multi_log_likelihood_batch):\n",
    "    inputs = data[\"image\"].to(device)\n",
    "    target_availabilities = data[\"target_availabilities\"].to(device)\n",
    "    targets = data[\"target_positions\"].to(device)\n",
    "\n",
    "    history_positions = data['history_positions'].to(device).view(TRAIN_BATCH_SIZE, -1)\n",
    "    centroid = data['centroid'].to(device).float()\n",
    "    yaw = data['yaw'].to(device).view(TRAIN_BATCH_SIZE, 1).float()\n",
    "    extent = data['extent'].to(device)\n",
    "    agent_data = torch.cat((history_positions, centroid, yaw, extent), dim=1)\n",
    "    \n",
    "    # Forward pass\n",
    "    preds, confidences = model(inputs, agent_data)\n",
    "    loss = criterion(targets, preds, confidences, target_availabilities)\n",
    "    return loss, preds, confidences"
   ]
  },
  {
   "cell_type": "markdown",
   "metadata": {
    "papermill": {
     "duration": 0.028581,
     "end_time": "2020-10-27T07:08:36.090344",
     "exception": false,
     "start_time": "2020-10-27T07:08:36.061763",
     "status": "completed"
    },
    "tags": []
   },
   "source": [
    "## Load the train and test data"
   ]
  },
  {
   "cell_type": "code",
   "execution_count": 9,
   "metadata": {
    "execution": {
     "iopub.execute_input": "2020-10-27T07:08:36.156967Z",
     "iopub.status.busy": "2020-10-27T07:08:36.155378Z",
     "iopub.status.idle": "2020-10-27T07:08:36.157996Z",
     "shell.execute_reply": "2020-10-27T07:08:36.158726Z"
    },
    "papermill": {
     "duration": 0.038812,
     "end_time": "2020-10-27T07:08:36.158931",
     "exception": false,
     "start_time": "2020-10-27T07:08:36.120119",
     "status": "completed"
    },
    "tags": []
   },
   "outputs": [],
   "source": [
    "# set env variable for data\n",
    "DIR_INPUT = cfg[\"data_path\"]\n",
    "os.environ[\"L5KIT_DATA_FOLDER\"] = DIR_INPUT\n",
    "dm = LocalDataManager(None)"
   ]
  },
  {
   "cell_type": "code",
   "execution_count": 10,
   "metadata": {
    "execution": {
     "iopub.execute_input": "2020-10-27T07:08:36.222728Z",
     "iopub.status.busy": "2020-10-27T07:08:36.221740Z",
     "iopub.status.idle": "2020-10-27T07:09:34.830441Z",
     "shell.execute_reply": "2020-10-27T07:09:34.829105Z"
    },
    "papermill": {
     "duration": 58.643127,
     "end_time": "2020-10-27T07:09:34.830602",
     "exception": false,
     "start_time": "2020-10-27T07:08:36.187475",
     "status": "completed"
    },
    "tags": []
   },
   "outputs": [],
   "source": [
    "# ===== INIT TRAIN DATASET============================================================\n",
    "train_cfg = cfg[\"train_data_loader\"]\n",
    "rasterizer = build_rasterizer(cfg, dm)\n",
    "train_zarr = ChunkedDataset(dm.require(train_cfg[\"key\"])).open()\n",
    "train_dataset = AgentDataset(cfg, train_zarr, rasterizer)"
   ]
  },
  {
   "cell_type": "code",
   "execution_count": 11,
   "metadata": {
    "execution": {
     "iopub.execute_input": "2020-10-27T07:09:34.893453Z",
     "iopub.status.busy": "2020-10-27T07:09:34.892683Z",
     "iopub.status.idle": "2020-10-27T07:09:34.904305Z",
     "shell.execute_reply": "2020-10-27T07:09:34.905008Z"
    },
    "papermill": {
     "duration": 0.046285,
     "end_time": "2020-10-27T07:09:34.905164",
     "exception": false,
     "start_time": "2020-10-27T07:09:34.858879",
     "status": "completed"
    },
    "tags": []
   },
   "outputs": [
    {
     "name": "stdout",
     "output_type": "stream",
     "text": [
      "Length of Train dataset is  22496709\n",
      "==================================TRAIN DATA==================================\n",
      "+------------+------------+------------+---------------+-----------------+----------------------+----------------------+----------------------+---------------------+\n",
      "| Num Scenes | Num Frames | Num Agents | Num TR lights | Total Time (hr) | Avg Frames per Scene | Avg Agents per Frame | Avg Scene Time (sec) | Avg Frame frequency |\n",
      "+------------+------------+------------+---------------+-----------------+----------------------+----------------------+----------------------+---------------------+\n",
      "|   16265    |  4039527   | 320124624  |    38735988   |      112.19     |        248.36        |        79.25         |        24.83         |        10.00        |\n",
      "+------------+------------+------------+---------------+-----------------+----------------------+----------------------+----------------------+---------------------+\n"
     ]
    }
   ],
   "source": [
    "print('Length of Train dataset is ' ,len(train_dataset))\n",
    "print(\"==================================TRAIN DATA==================================\")\n",
    "print(train_dataset)"
   ]
  },
  {
   "cell_type": "code",
   "execution_count": 12,
   "metadata": {
    "execution": {
     "iopub.execute_input": "2020-10-27T07:09:34.971271Z",
     "iopub.status.busy": "2020-10-27T07:09:34.969832Z",
     "iopub.status.idle": "2020-10-27T07:09:36.072316Z",
     "shell.execute_reply": "2020-10-27T07:09:36.071508Z"
    },
    "papermill": {
     "duration": 1.138428,
     "end_time": "2020-10-27T07:09:36.072488",
     "exception": false,
     "start_time": "2020-10-27T07:09:34.934060",
     "status": "completed"
    },
    "tags": []
   },
   "outputs": [
    {
     "name": "stdout",
     "output_type": "stream",
     "text": [
      "Before slicing, start indices are  [ 4544818 11783688  2821987 10532781  1993967 15711361  7726097   547516\n",
      " 17556178  7275034]\n"
     ]
    }
   ],
   "source": [
    "sampled_indices = np.random.choice(len(train_dataset), size = len(train_dataset), replace = False)\n",
    "print('Before slicing, start indices are ', sampled_indices[0:10])"
   ]
  },
  {
   "cell_type": "code",
   "execution_count": 13,
   "metadata": {
    "execution": {
     "iopub.execute_input": "2020-10-27T07:09:36.134741Z",
     "iopub.status.busy": "2020-10-27T07:09:36.134063Z",
     "iopub.status.idle": "2020-10-27T07:09:36.139861Z",
     "shell.execute_reply": "2020-10-27T07:09:36.140448Z"
    },
    "papermill": {
     "duration": 0.039209,
     "end_time": "2020-10-27T07:09:36.140604",
     "exception": false,
     "start_time": "2020-10-27T07:09:36.101395",
     "status": "completed"
    },
    "tags": []
   },
   "outputs": [
    {
     "data": {
      "text/plain": [
       "0"
      ]
     },
     "execution_count": 13,
     "metadata": {},
     "output_type": "execute_result"
    }
   ],
   "source": [
    "TRAIN_START_INDICES"
   ]
  },
  {
   "cell_type": "code",
   "execution_count": 14,
   "metadata": {
    "execution": {
     "iopub.execute_input": "2020-10-27T07:09:36.204890Z",
     "iopub.status.busy": "2020-10-27T07:09:36.204100Z",
     "iopub.status.idle": "2020-10-27T07:09:36.209725Z",
     "shell.execute_reply": "2020-10-27T07:09:36.210516Z"
    },
    "papermill": {
     "duration": 0.040102,
     "end_time": "2020-10-27T07:09:36.210682",
     "exception": false,
     "start_time": "2020-10-27T07:09:36.170580",
     "status": "completed"
    },
    "tags": []
   },
   "outputs": [
    {
     "name": "stdout",
     "output_type": "stream",
     "text": [
      "After slicing, start indices are  [ 4544818 11783688  2821987 10532781  1993967 15711361  7726097   547516\n",
      " 17556178  7275034]\n"
     ]
    }
   ],
   "source": [
    "sampled_indices = sampled_indices[TRAIN_START_INDICES:]\n",
    "print('After slicing, start indices are ', sampled_indices[0:10])"
   ]
  },
  {
   "cell_type": "code",
   "execution_count": 15,
   "metadata": {
    "execution": {
     "iopub.execute_input": "2020-10-27T07:09:36.275147Z",
     "iopub.status.busy": "2020-10-27T07:09:36.274417Z",
     "iopub.status.idle": "2020-10-27T07:09:36.279089Z",
     "shell.execute_reply": "2020-10-27T07:09:36.278496Z"
    },
    "papermill": {
     "duration": 0.03795,
     "end_time": "2020-10-27T07:09:36.279218",
     "exception": false,
     "start_time": "2020-10-27T07:09:36.241268",
     "status": "completed"
    },
    "tags": []
   },
   "outputs": [],
   "source": [
    "Datasampler = SubsetRandomSampler(sampled_indices)"
   ]
  },
  {
   "cell_type": "code",
   "execution_count": 16,
   "metadata": {
    "execution": {
     "iopub.execute_input": "2020-10-27T07:09:36.343672Z",
     "iopub.status.busy": "2020-10-27T07:09:36.342877Z",
     "iopub.status.idle": "2020-10-27T07:09:36.346255Z",
     "shell.execute_reply": "2020-10-27T07:09:36.346825Z"
    },
    "papermill": {
     "duration": 0.038115,
     "end_time": "2020-10-27T07:09:36.346970",
     "exception": false,
     "start_time": "2020-10-27T07:09:36.308855",
     "status": "completed"
    },
    "tags": []
   },
   "outputs": [],
   "source": [
    "train_dataloader = DataLoader(train_dataset, sampler=Datasampler, batch_size=train_cfg[\"batch_size\"], \n",
    "                             num_workers=train_cfg[\"num_workers\"])"
   ]
  },
  {
   "cell_type": "markdown",
   "metadata": {},
   "source": [
    "## CUDA device && encoding model"
   ]
  },
  {
   "cell_type": "code",
   "execution_count": 20,
   "metadata": {
    "execution": {
     "iopub.execute_input": "2020-10-27T07:09:36.844144Z",
     "iopub.status.busy": "2020-10-27T07:09:36.843320Z",
     "iopub.status.idle": "2020-10-27T07:09:36.848285Z",
     "shell.execute_reply": "2020-10-27T07:09:36.849038Z"
    },
    "papermill": {
     "duration": 0.044074,
     "end_time": "2020-10-27T07:09:36.849227",
     "exception": false,
     "start_time": "2020-10-27T07:09:36.805153",
     "status": "completed"
    },
    "tags": []
   },
   "outputs": [
    {
     "name": "stdout",
     "output_type": "stream",
     "text": [
      "device cuda:0\n"
     ]
    }
   ],
   "source": [
    "# ==== INIT MODEL=================\n",
    "device = torch.device(\"cuda:0\" if torch.cuda.is_available() else \"cpu\")\n",
    "print(f'device {device}')"
   ]
  },
  {
   "cell_type": "code",
   "execution_count": 21,
   "metadata": {
    "execution": {
     "iopub.execute_input": "2020-10-27T07:09:36.918821Z",
     "iopub.status.busy": "2020-10-27T07:09:36.918056Z",
     "iopub.status.idle": "2020-10-27T07:09:39.689549Z",
     "shell.execute_reply": "2020-10-27T07:09:39.688282Z"
    },
    "papermill": {
     "duration": 2.808493,
     "end_time": "2020-10-27T07:09:39.689735",
     "exception": false,
     "start_time": "2020-10-27T07:09:36.881242",
     "status": "completed"
    },
    "tags": []
   },
   "outputs": [],
   "source": [
    "model = LyftMultiModel(cfg)"
   ]
  },
  {
   "cell_type": "raw",
   "metadata": {
    "execution": {
     "iopub.execute_input": "2020-10-27T07:09:39.769024Z",
     "iopub.status.busy": "2020-10-27T07:09:39.767746Z",
     "iopub.status.idle": "2020-10-27T07:09:44.588684Z",
     "shell.execute_reply": "2020-10-27T07:09:44.587660Z"
    },
    "papermill": {
     "duration": 4.860361,
     "end_time": "2020-10-27T07:09:44.588820",
     "exception": false,
     "start_time": "2020-10-27T07:09:39.728459",
     "status": "completed"
    },
    "tags": []
   },
   "source": [
    "#load weight if there is a pretrained model\n",
    "weight_path = cfg[\"model_params\"][\"weight_path\"]\n",
    "if weight_path:\n",
    "    model.load_state_dict(torch.load(weight_path))"
   ]
  },
  {
   "cell_type": "code",
   "execution_count": 22,
   "metadata": {
    "execution": {
     "iopub.execute_input": "2020-10-27T07:09:44.664223Z",
     "iopub.status.busy": "2020-10-27T07:09:44.662954Z",
     "iopub.status.idle": "2020-10-27T07:09:44.694399Z",
     "shell.execute_reply": "2020-10-27T07:09:44.693684Z"
    },
    "papermill": {
     "duration": 0.072036,
     "end_time": "2020-10-27T07:09:44.694545",
     "exception": false,
     "start_time": "2020-10-27T07:09:44.622509",
     "status": "completed"
    },
    "tags": []
   },
   "outputs": [
    {
     "name": "stdout",
     "output_type": "stream",
     "text": [
      "device cuda:0\n"
     ]
    }
   ],
   "source": [
    "model.to(device)\n",
    "optimizer = optim.Adam(model.parameters(), lr=cfg[\"model_params\"][\"lr\"])\n",
    "print(f'device {device}')"
   ]
  },
  {
   "cell_type": "code",
   "execution_count": 23,
   "metadata": {
    "execution": {
     "iopub.execute_input": "2020-10-27T07:09:44.771635Z",
     "iopub.status.busy": "2020-10-27T07:09:44.770448Z",
     "iopub.status.idle": "2020-10-27T07:09:44.774786Z",
     "shell.execute_reply": "2020-10-27T07:09:44.775360Z"
    },
    "papermill": {
     "duration": 0.046499,
     "end_time": "2020-10-27T07:09:44.775514",
     "exception": false,
     "start_time": "2020-10-27T07:09:44.729015",
     "status": "completed"
    },
    "tags": []
   },
   "outputs": [
    {
     "data": {
      "text/plain": [
       "22731223"
      ]
     },
     "execution_count": 23,
     "metadata": {},
     "output_type": "execute_result"
    }
   ],
   "source": [
    "find_no_of_trainable_params(model)"
   ]
  },
  {
   "cell_type": "markdown",
   "metadata": {
    "papermill": {
     "duration": 0.034764,
     "end_time": "2020-10-27T07:09:44.845216",
     "exception": false,
     "start_time": "2020-10-27T07:09:44.810452",
     "status": "completed"
    },
    "tags": []
   },
   "source": [
    "## Training loop"
   ]
  },
  {
   "cell_type": "code",
   "execution_count": 24,
   "metadata": {
    "execution": {
     "iopub.execute_input": "2020-10-27T07:09:44.990549Z",
     "iopub.status.busy": "2020-10-27T07:09:44.989622Z",
     "iopub.status.idle": "2020-10-27T07:09:44.993307Z",
     "shell.execute_reply": "2020-10-27T07:09:44.993856Z"
    },
    "papermill": {
     "duration": 0.044278,
     "end_time": "2020-10-27T07:09:44.994025",
     "exception": false,
     "start_time": "2020-10-27T07:09:44.949747",
     "status": "completed"
    },
    "tags": []
   },
   "outputs": [
    {
     "data": {
      "text/plain": [
       "0"
      ]
     },
     "execution_count": 24,
     "metadata": {},
     "output_type": "execute_result"
    }
   ],
   "source": [
    "TRAIN_START_INDICES"
   ]
  },
  {
   "cell_type": "code",
   "execution_count": 25,
   "metadata": {
    "execution": {
     "iopub.execute_input": "2020-10-27T07:09:45.071549Z",
     "iopub.status.busy": "2020-10-27T07:09:45.070610Z",
     "iopub.status.idle": "2020-10-27T07:09:45.075259Z",
     "shell.execute_reply": "2020-10-27T07:09:45.075832Z"
    },
    "papermill": {
     "duration": 0.04626,
     "end_time": "2020-10-27T07:09:45.076005",
     "exception": false,
     "start_time": "2020-10-27T07:09:45.029745",
     "status": "completed"
    },
    "tags": []
   },
   "outputs": [
    {
     "name": "stdout",
     "output_type": "stream",
     "text": [
      "TRAINING ABOUT TO START ... FROM  0   BATCH\n"
     ]
    }
   ],
   "source": [
    "print('TRAINING ABOUT TO START ... FROM ', TRAIN_START_INDICES, '  BATCH')"
   ]
  },
  {
   "cell_type": "code",
   "execution_count": 26,
   "metadata": {
    "execution": {
     "iopub.execute_input": "2020-10-27T07:09:45.169773Z",
     "iopub.status.busy": "2020-10-27T07:09:45.162344Z",
     "iopub.status.idle": "2020-10-27T13:44:42.361671Z",
     "shell.execute_reply": "2020-10-27T13:44:42.367019Z"
    },
    "papermill": {
     "duration": 23697.255193,
     "end_time": "2020-10-27T13:44:42.367407",
     "exception": false,
     "start_time": "2020-10-27T07:09:45.112214",
     "status": "completed"
    },
    "tags": []
   },
   "outputs": [
    {
     "name": "stderr",
     "output_type": "stream",
     "text": [
      "loss: 2357.18408203125 loss(avg): 4375.152836914062: 100%|██████████| 25/25 [00:43<00:00,  1.74s/it]  "
     ]
    },
    {
     "name": "stdout",
     "output_type": "stream",
     "text": [
      "Total training time is 0.7244867444038391 mins\n",
      "   iterations  metrics (avg)  elapsed_time (mins)\n",
      "0           0   11645.556641             0.060207\n",
      "1           5    8112.615153             0.200566\n",
      "2          10    6485.827326             0.346308\n",
      "3          15    5509.071304             0.484290\n",
      "4          20    4741.189401             0.619982\n"
     ]
    },
    {
     "name": "stderr",
     "output_type": "stream",
     "text": [
      "\n"
     ]
    }
   ],
   "source": [
    "# ==== TRAINING LOOP =========================================================\n",
    "if cfg[\"model_params\"][\"train\"]:\n",
    "    \n",
    "    tr_it = iter(train_dataloader)\n",
    "    progress_bar = tqdm(range(TRAIN_START_INDICES, \n",
    "                              TRAIN_START_INDICES + cfg[\"train_params\"][\"max_num_steps\"]))\n",
    "    num_iter = cfg[\"train_params\"][\"max_num_steps\"]\n",
    "    losses_train = []\n",
    "    iterations = []\n",
    "    metrics = []\n",
    "    times = []\n",
    "    model_name = cfg[\"model_params\"][\"model_name\"]\n",
    "    start = time.time()\n",
    "    \n",
    "    for i in progress_bar:\n",
    "        try:\n",
    "            data = next(tr_it)\n",
    "        except StopIteration:\n",
    "            tr_it = iter(train_dataloader)\n",
    "            data = next(tr_it)\n",
    "        \n",
    "        # Forward pass\n",
    "        model.train()\n",
    "        torch.set_grad_enabled(True)\n",
    "        loss, _, _ = forward(data, model, device)\n",
    "\n",
    "        # Backward pass\n",
    "        optimizer.zero_grad()\n",
    "        loss.backward()\n",
    "        optimizer.step()\n",
    "\n",
    "        losses_train.append(loss.item())\n",
    "\n",
    "        progress_bar.set_description(f\"loss: {loss.item()} loss(avg): {np.mean(losses_train)}\")\n",
    "        if i % cfg['train_params']['checkpoint_every_n_steps'] == 0:\n",
    "            sample_number = i * cfg['train_data_loader']['batch_size']            \n",
    "            state = {\n",
    "              'state_dict': model.state_dict(),\n",
    "              'optimizer': optimizer.state_dict(),\n",
    "            }\n",
    "            torch.save(state, f'{model_name}_{sample_number}k.pth')\n",
    "            iterations.append(i)\n",
    "            metrics.append(np.mean(losses_train))\n",
    "            times.append((time.time()-start)/60)\n",
    "\n",
    "    sample_number = i * cfg['train_data_loader']['batch_size']\n",
    "    results = pd.DataFrame({'iterations': iterations, 'metrics (avg)': metrics, 'elapsed_time (mins)': times})\n",
    "    results.to_csv(f\"train_metrics_{model_name}_{sample_number}k.csv\", index = False)\n",
    "    train_losses_csv = pd.DataFrame({'iteration': TRAIN_START_INDICES + np.arange(len(losses_train)), \n",
    "                                 'losses_train': losses_train})\n",
    "    train_losses_csv.to_csv(f\"train_losses_{model_name}_{sample_number}k.csv\", index = False)\n",
    "    print(f\"Total training time is {(time.time()-start)/60} mins\")\n",
    "    print(results.head())"
   ]
  },
  {
   "cell_type": "code",
   "execution_count": null,
   "metadata": {},
   "outputs": [],
   "source": []
  }
 ],
 "metadata": {
  "kernelspec": {
   "display_name": "Python 3",
   "language": "python",
   "name": "python3"
  },
  "language_info": {
   "codemirror_mode": {
    "name": "ipython",
    "version": 3
   },
   "file_extension": ".py",
   "mimetype": "text/x-python",
   "name": "python",
   "nbconvert_exporter": "python",
   "pygments_lexer": "ipython3",
   "version": "3.6.12"
  },
  "papermill": {
   "duration": 23814.782823,
   "end_time": "2020-10-27T13:45:19.478020",
   "environment_variables": {},
   "exception": null,
   "input_path": "__notebook__.ipynb",
   "output_path": "__notebook__.ipynb",
   "parameters": {},
   "start_time": "2020-10-27T07:08:24.695197",
   "version": "2.1.0"
  },
  "widgets": {
   "application/vnd.jupyter.widget-state+json": {
    "state": {
     "0f8b33b1e7014f2cb5925f7672584ee7": {
      "model_module": "@jupyter-widgets/base",
      "model_module_version": "1.2.0",
      "model_name": "LayoutModel",
      "state": {
       "_model_module": "@jupyter-widgets/base",
       "_model_module_version": "1.2.0",
       "_model_name": "LayoutModel",
       "_view_count": null,
       "_view_module": "@jupyter-widgets/base",
       "_view_module_version": "1.2.0",
       "_view_name": "LayoutView",
       "align_content": null,
       "align_items": null,
       "align_self": null,
       "border": null,
       "bottom": null,
       "display": null,
       "flex": null,
       "flex_flow": null,
       "grid_area": null,
       "grid_auto_columns": null,
       "grid_auto_flow": null,
       "grid_auto_rows": null,
       "grid_column": null,
       "grid_gap": null,
       "grid_row": null,
       "grid_template_areas": null,
       "grid_template_columns": null,
       "grid_template_rows": null,
       "height": null,
       "justify_content": null,
       "justify_items": null,
       "left": null,
       "margin": null,
       "max_height": null,
       "max_width": null,
       "min_height": null,
       "min_width": null,
       "object_fit": null,
       "object_position": null,
       "order": null,
       "overflow": null,
       "overflow_x": null,
       "overflow_y": null,
       "padding": null,
       "right": null,
       "top": null,
       "visibility": null,
       "width": null
      }
     },
     "37a79f5f05224de6b27427e48e54158d": {
      "model_module": "@jupyter-widgets/controls",
      "model_module_version": "1.5.0",
      "model_name": "HBoxModel",
      "state": {
       "_dom_classes": [],
       "_model_module": "@jupyter-widgets/controls",
       "_model_module_version": "1.5.0",
       "_model_name": "HBoxModel",
       "_view_count": null,
       "_view_module": "@jupyter-widgets/controls",
       "_view_module_version": "1.5.0",
       "_view_name": "HBoxView",
       "box_style": "",
       "children": [
        "IPY_MODEL_4893b6d8fcf743d0aaa8652ce7e70906",
        "IPY_MODEL_f0ccfdc7491f4536970b5e24746a4e62"
       ],
       "layout": "IPY_MODEL_0f8b33b1e7014f2cb5925f7672584ee7"
      }
     },
     "4893b6d8fcf743d0aaa8652ce7e70906": {
      "model_module": "@jupyter-widgets/controls",
      "model_module_version": "1.5.0",
      "model_name": "FloatProgressModel",
      "state": {
       "_dom_classes": [],
       "_model_module": "@jupyter-widgets/controls",
       "_model_module_version": "1.5.0",
       "_model_name": "FloatProgressModel",
       "_view_count": null,
       "_view_module": "@jupyter-widgets/controls",
       "_view_module_version": "1.5.0",
       "_view_name": "ProgressView",
       "bar_style": "success",
       "description": "100%",
       "description_tooltip": null,
       "layout": "IPY_MODEL_c2d7449031064b098038b1dabbbf03c1",
       "max": 46827520,
       "min": 0,
       "orientation": "horizontal",
       "style": "IPY_MODEL_c30bf8fac76a4b299ed4b5e343301ab3",
       "value": 46827520
      }
     },
     "61f3e41b6d074f248375e1f4e8ce88aa": {
      "model_module": "@jupyter-widgets/controls",
      "model_module_version": "1.5.0",
      "model_name": "DescriptionStyleModel",
      "state": {
       "_model_module": "@jupyter-widgets/controls",
       "_model_module_version": "1.5.0",
       "_model_name": "DescriptionStyleModel",
       "_view_count": null,
       "_view_module": "@jupyter-widgets/base",
       "_view_module_version": "1.2.0",
       "_view_name": "StyleView",
       "description_width": ""
      }
     },
     "c2d7449031064b098038b1dabbbf03c1": {
      "model_module": "@jupyter-widgets/base",
      "model_module_version": "1.2.0",
      "model_name": "LayoutModel",
      "state": {
       "_model_module": "@jupyter-widgets/base",
       "_model_module_version": "1.2.0",
       "_model_name": "LayoutModel",
       "_view_count": null,
       "_view_module": "@jupyter-widgets/base",
       "_view_module_version": "1.2.0",
       "_view_name": "LayoutView",
       "align_content": null,
       "align_items": null,
       "align_self": null,
       "border": null,
       "bottom": null,
       "display": null,
       "flex": null,
       "flex_flow": null,
       "grid_area": null,
       "grid_auto_columns": null,
       "grid_auto_flow": null,
       "grid_auto_rows": null,
       "grid_column": null,
       "grid_gap": null,
       "grid_row": null,
       "grid_template_areas": null,
       "grid_template_columns": null,
       "grid_template_rows": null,
       "height": null,
       "justify_content": null,
       "justify_items": null,
       "left": null,
       "margin": null,
       "max_height": null,
       "max_width": null,
       "min_height": null,
       "min_width": null,
       "object_fit": null,
       "object_position": null,
       "order": null,
       "overflow": null,
       "overflow_x": null,
       "overflow_y": null,
       "padding": null,
       "right": null,
       "top": null,
       "visibility": null,
       "width": null
      }
     },
     "c30bf8fac76a4b299ed4b5e343301ab3": {
      "model_module": "@jupyter-widgets/controls",
      "model_module_version": "1.5.0",
      "model_name": "ProgressStyleModel",
      "state": {
       "_model_module": "@jupyter-widgets/controls",
       "_model_module_version": "1.5.0",
       "_model_name": "ProgressStyleModel",
       "_view_count": null,
       "_view_module": "@jupyter-widgets/base",
       "_view_module_version": "1.2.0",
       "_view_name": "StyleView",
       "bar_color": null,
       "description_width": "initial"
      }
     },
     "e1cd97e00fdb4ed29e0cb8175ce47be9": {
      "model_module": "@jupyter-widgets/base",
      "model_module_version": "1.2.0",
      "model_name": "LayoutModel",
      "state": {
       "_model_module": "@jupyter-widgets/base",
       "_model_module_version": "1.2.0",
       "_model_name": "LayoutModel",
       "_view_count": null,
       "_view_module": "@jupyter-widgets/base",
       "_view_module_version": "1.2.0",
       "_view_name": "LayoutView",
       "align_content": null,
       "align_items": null,
       "align_self": null,
       "border": null,
       "bottom": null,
       "display": null,
       "flex": null,
       "flex_flow": null,
       "grid_area": null,
       "grid_auto_columns": null,
       "grid_auto_flow": null,
       "grid_auto_rows": null,
       "grid_column": null,
       "grid_gap": null,
       "grid_row": null,
       "grid_template_areas": null,
       "grid_template_columns": null,
       "grid_template_rows": null,
       "height": null,
       "justify_content": null,
       "justify_items": null,
       "left": null,
       "margin": null,
       "max_height": null,
       "max_width": null,
       "min_height": null,
       "min_width": null,
       "object_fit": null,
       "object_position": null,
       "order": null,
       "overflow": null,
       "overflow_x": null,
       "overflow_y": null,
       "padding": null,
       "right": null,
       "top": null,
       "visibility": null,
       "width": null
      }
     },
     "f0ccfdc7491f4536970b5e24746a4e62": {
      "model_module": "@jupyter-widgets/controls",
      "model_module_version": "1.5.0",
      "model_name": "HTMLModel",
      "state": {
       "_dom_classes": [],
       "_model_module": "@jupyter-widgets/controls",
       "_model_module_version": "1.5.0",
       "_model_name": "HTMLModel",
       "_view_count": null,
       "_view_module": "@jupyter-widgets/controls",
       "_view_module_version": "1.5.0",
       "_view_name": "HTMLView",
       "description": "",
       "description_tooltip": null,
       "layout": "IPY_MODEL_e1cd97e00fdb4ed29e0cb8175ce47be9",
       "placeholder": "​",
       "style": "IPY_MODEL_61f3e41b6d074f248375e1f4e8ce88aa",
       "value": " 44.7M/44.7M [6:35:00&lt;00:00, 1.98kB/s]"
      }
     }
    },
    "version_major": 2,
    "version_minor": 0
   }
  }
 },
 "nbformat": 4,
 "nbformat_minor": 4
}
