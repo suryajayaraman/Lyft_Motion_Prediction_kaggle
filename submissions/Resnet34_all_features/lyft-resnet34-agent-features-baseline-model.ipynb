{
 "cells": [
  {
   "cell_type": "code",
   "execution_count": 1,
   "metadata": {
    "execution": {
     "iopub.execute_input": "2020-11-03T04:50:18.039445Z",
     "iopub.status.busy": "2020-11-03T04:50:18.038828Z",
     "iopub.status.idle": "2020-11-03T04:50:22.771674Z",
     "shell.execute_reply": "2020-11-03T04:50:22.772337Z"
    },
    "papermill": {
     "duration": 4.773523,
     "end_time": "2020-11-03T04:50:22.772574",
     "exception": false,
     "start_time": "2020-11-03T04:50:17.999051",
     "status": "completed"
    },
    "tags": []
   },
   "outputs": [],
   "source": [
    "from typing import Dict\n",
    "\n",
    "from tempfile import gettempdir\n",
    "import matplotlib.pyplot as plt\n",
    "import numpy as np\n",
    "import pandas as pd\n",
    "import torch\n",
    "from torch import nn, optim\n",
    "from torch.utils.data import DataLoader, SubsetRandomSampler\n",
    "from torchvision.models.resnet import resnet50, resnet18, resnet34, resnet101\n",
    "import torch.nn.functional as F\n",
    "from tqdm import tqdm\n",
    "\n",
    "import l5kit\n",
    "from l5kit.configs import load_config_data\n",
    "from l5kit.data import LocalDataManager, ChunkedDataset\n",
    "from l5kit.dataset import AgentDataset, EgoDataset\n",
    "from l5kit.rasterization import build_rasterizer\n",
    "from l5kit.evaluation import write_pred_csv, compute_metrics_csv, read_gt_csv, create_chopped_dataset\n",
    "from l5kit.evaluation.chop_dataset import MIN_FUTURE_STEPS\n",
    "from l5kit.evaluation.metrics import neg_multi_log_likelihood, time_displace\n",
    "from l5kit.geometry import transform_points\n",
    "from l5kit.visualization import PREDICTED_POINTS_COLOR, TARGET_POINTS_COLOR, draw_trajectory\n",
    "from prettytable import PrettyTable\n",
    "from pathlib import Path\n",
    "\n",
    "import matplotlib.pyplot as plt\n",
    "\n",
    "import os\n",
    "import random\n",
    "import time\n",
    "\n",
    "import warnings\n",
    "warnings.filterwarnings(\"ignore\")"
   ]
  },
  {
   "cell_type": "code",
   "execution_count": 2,
   "metadata": {
    "execution": {
     "iopub.execute_input": "2020-11-03T04:50:22.855218Z",
     "iopub.status.busy": "2020-11-03T04:50:22.852589Z",
     "iopub.status.idle": "2020-11-03T04:50:22.858577Z",
     "shell.execute_reply": "2020-11-03T04:50:22.857869Z"
    },
    "papermill": {
     "duration": 0.050969,
     "end_time": "2020-11-03T04:50:22.858696",
     "exception": false,
     "start_time": "2020-11-03T04:50:22.807727",
     "status": "completed"
    },
    "tags": []
   },
   "outputs": [
    {
     "data": {
      "text/plain": [
       "'1.1.0'"
      ]
     },
     "execution_count": 2,
     "metadata": {},
     "output_type": "execute_result"
    }
   ],
   "source": [
    "l5kit.__version__"
   ]
  },
  {
   "cell_type": "code",
   "execution_count": 3,
   "metadata": {
    "execution": {
     "iopub.execute_input": "2020-11-03T04:50:23.321294Z",
     "iopub.status.busy": "2020-11-03T04:50:23.320556Z",
     "iopub.status.idle": "2020-11-03T04:50:23.327550Z",
     "shell.execute_reply": "2020-11-03T04:50:23.327016Z"
    },
    "papermill": {
     "duration": 0.433707,
     "end_time": "2020-11-03T04:50:23.327661",
     "exception": false,
     "start_time": "2020-11-03T04:50:22.893954",
     "status": "completed"
    },
    "tags": []
   },
   "outputs": [
    {
     "data": {
      "text/plain": [
       "True"
      ]
     },
     "execution_count": 3,
     "metadata": {},
     "output_type": "execute_result"
    }
   ],
   "source": [
    "torch.cuda.is_available()"
   ]
  },
  {
   "cell_type": "code",
   "execution_count": 4,
   "metadata": {
    "execution": {
     "iopub.execute_input": "2020-11-03T04:50:23.388883Z",
     "iopub.status.busy": "2020-11-03T04:50:23.388092Z",
     "iopub.status.idle": "2020-11-03T04:50:23.391831Z",
     "shell.execute_reply": "2020-11-03T04:50:23.391246Z"
    },
    "papermill": {
     "duration": 0.037104,
     "end_time": "2020-11-03T04:50:23.391971",
     "exception": false,
     "start_time": "2020-11-03T04:50:23.354867",
     "status": "completed"
    },
    "tags": []
   },
   "outputs": [],
   "source": [
    "def find_no_of_trainable_params(model):\n",
    "    total_trainable_params = sum(p.numel() for p in model.parameters() if p.requires_grad)\n",
    "    #print(total_trainable_params)\n",
    "    return total_trainable_params"
   ]
  },
  {
   "cell_type": "code",
   "execution_count": 5,
   "metadata": {
    "execution": {
     "iopub.execute_input": "2020-11-03T04:50:23.455247Z",
     "iopub.status.busy": "2020-11-03T04:50:23.454445Z",
     "iopub.status.idle": "2020-11-03T04:50:23.460513Z",
     "shell.execute_reply": "2020-11-03T04:50:23.459964Z"
    },
    "papermill": {
     "duration": 0.040421,
     "end_time": "2020-11-03T04:50:23.460614",
     "exception": false,
     "start_time": "2020-11-03T04:50:23.420193",
     "status": "completed"
    },
    "tags": []
   },
   "outputs": [],
   "source": [
    "def set_seed(seed):\n",
    "    random.seed(seed)\n",
    "    np.random.seed(seed)\n",
    "    os.environ[\"PYTHONHASHSEED\"] = str(seed)\n",
    "    torch.manual_seed(seed)\n",
    "    torch.cuda.manual_seed(seed)\n",
    "    \n",
    "set_seed(42)"
   ]
  },
  {
   "cell_type": "code",
   "execution_count": 6,
   "metadata": {
    "execution": {
     "iopub.execute_input": "2020-11-03T04:50:23.522465Z",
     "iopub.status.busy": "2020-11-03T04:50:23.521664Z",
     "iopub.status.idle": "2020-11-03T04:50:24.207335Z",
     "shell.execute_reply": "2020-11-03T04:50:24.206655Z"
    },
    "papermill": {
     "duration": 0.718221,
     "end_time": "2020-11-03T04:50:24.207448",
     "exception": false,
     "start_time": "2020-11-03T04:50:23.489227",
     "status": "completed"
    },
    "tags": []
   },
   "outputs": [],
   "source": [
    "!rm /kaggle/working/*"
   ]
  },
  {
   "cell_type": "markdown",
   "metadata": {
    "papermill": {
     "duration": 0.027444,
     "end_time": "2020-11-03T04:50:24.263910",
     "exception": false,
     "start_time": "2020-11-03T04:50:24.236466",
     "status": "completed"
    },
    "tags": []
   },
   "source": [
    "## Configs"
   ]
  },
  {
   "cell_type": "code",
   "execution_count": 7,
   "metadata": {
    "execution": {
     "iopub.execute_input": "2020-11-03T04:50:24.330418Z",
     "iopub.status.busy": "2020-11-03T04:50:24.329598Z",
     "iopub.status.idle": "2020-11-03T04:50:24.332934Z",
     "shell.execute_reply": "2020-11-03T04:50:24.333368Z"
    },
    "papermill": {
     "duration": 0.041385,
     "end_time": "2020-11-03T04:50:24.333487",
     "exception": false,
     "start_time": "2020-11-03T04:50:24.292102",
     "status": "completed"
    },
    "tags": []
   },
   "outputs": [],
   "source": [
    "# --- Lyft configs ---\n",
    "cfg = {\n",
    "    'format_version': 4,\n",
    "    'data_path': \"../input/lyft-motion-prediction-autonomous-vehicles/\",\n",
    "    'model_params': {\n",
    "        'model_architecture': 'resnet34',\n",
    "        'history_num_frames': 10,\n",
    "        'history_step_size': 1,\n",
    "        'history_delta_time': 0.1,\n",
    "        'future_num_frames': 50,\n",
    "        'future_step_size': 1,\n",
    "        'future_delta_time': 0.1,\n",
    "        'model_name': \"R34_pvt_10_224_norm_agent_features_nll_multimode\",\n",
    "        'lr': 1e-3,\n",
    "        'weight_path': \"../input/lyft-motion-prediction-resnet-weight-files/R34_pvt_10_224_norm_agent_features_nll_multimode_240k.pth\",\n",
    "        'train': True,\n",
    "        'predict': False\n",
    "    },\n",
    "\n",
    "    'raster_params': {\n",
    "        'raster_size': [224, 224],\n",
    "        'pixel_size': [0.5, 0.5],\n",
    "        'ego_center': [0.25, 0.5],\n",
    "        'map_type': 'py_semantic',\n",
    "        'satellite_map_key': 'aerial_map/aerial_map.png',\n",
    "        'semantic_map_key': 'semantic_map/semantic_map.pb',\n",
    "        'dataset_meta_key': 'meta.json',\n",
    "        'filter_agents_threshold': 0.5\n",
    "    },\n",
    "\n",
    "    'train_data_loader': {\n",
    "        'key': 'scenes/train.zarr',\n",
    "        'batch_size': 32,\n",
    "        'shuffle': True,\n",
    "        'num_workers': 4\n",
    "    },\n",
    "    \n",
    "    'test_data_loader': {\n",
    "        'key': 'scenes/test.zarr',\n",
    "        'batch_size': 32,\n",
    "        'shuffle': False,\n",
    "        'num_workers': 4\n",
    "    },\n",
    "\n",
    "    'train_params': {\n",
    "        'train_start_index' : 7501,\n",
    "        'max_num_steps': 7505,\n",
    "        'checkpoint_every_n_steps': 250,\n",
    "    }\n",
    "}"
   ]
  },
  {
   "cell_type": "code",
   "execution_count": 8,
   "metadata": {
    "execution": {
     "iopub.execute_input": "2020-11-03T04:50:24.394168Z",
     "iopub.status.busy": "2020-11-03T04:50:24.393435Z",
     "iopub.status.idle": "2020-11-03T04:50:24.397429Z",
     "shell.execute_reply": "2020-11-03T04:50:24.396937Z"
    },
    "papermill": {
     "duration": 0.036977,
     "end_time": "2020-11-03T04:50:24.397520",
     "exception": false,
     "start_time": "2020-11-03T04:50:24.360543",
     "status": "completed"
    },
    "tags": []
   },
   "outputs": [],
   "source": [
    "NUMBER_OF_HISTORY_FRAMES = cfg['model_params']['history_num_frames'] + 1\n",
    "RASTER_IMG_SIZE = cfg['raster_params']['raster_size'][0]\n",
    "NUM_MODES = 3\n",
    "NUMBER_OF_FUTURE_FRAMES = cfg['model_params']['future_num_frames']\n",
    "TRAIN_BATCH_SIZE = cfg['train_data_loader']['batch_size'] \n",
    "### TRAIN FROM WHERE LEFT OFF, CHANGE THE STARTING INDICES VARIABLE ACCORDINGLY\n",
    "TRAIN_START_INDICES = cfg['train_params']['train_start_index']\n",
    "EXTENT_RANGE = 5.0 "
   ]
  },
  {
   "cell_type": "markdown",
   "metadata": {
    "papermill": {
     "duration": 0.026472,
     "end_time": "2020-11-03T04:50:24.451715",
     "exception": false,
     "start_time": "2020-11-03T04:50:24.425243",
     "status": "completed"
    },
    "tags": []
   },
   "source": [
    "## Load the train and test data"
   ]
  },
  {
   "cell_type": "code",
   "execution_count": 9,
   "metadata": {
    "execution": {
     "iopub.execute_input": "2020-11-03T04:50:24.512857Z",
     "iopub.status.busy": "2020-11-03T04:50:24.512179Z",
     "iopub.status.idle": "2020-11-03T04:50:24.516621Z",
     "shell.execute_reply": "2020-11-03T04:50:24.516102Z"
    },
    "papermill": {
     "duration": 0.036539,
     "end_time": "2020-11-03T04:50:24.516719",
     "exception": false,
     "start_time": "2020-11-03T04:50:24.480180",
     "status": "completed"
    },
    "tags": []
   },
   "outputs": [],
   "source": [
    "# set env variable for data\n",
    "DIR_INPUT = cfg[\"data_path\"]\n",
    "os.environ[\"L5KIT_DATA_FOLDER\"] = DIR_INPUT\n",
    "dm = LocalDataManager(None)"
   ]
  },
  {
   "cell_type": "code",
   "execution_count": 10,
   "metadata": {
    "execution": {
     "iopub.execute_input": "2020-11-03T04:50:24.577608Z",
     "iopub.status.busy": "2020-11-03T04:50:24.576688Z",
     "iopub.status.idle": "2020-11-03T04:51:25.997046Z",
     "shell.execute_reply": "2020-11-03T04:51:25.995571Z"
    },
    "papermill": {
     "duration": 61.452291,
     "end_time": "2020-11-03T04:51:25.997203",
     "exception": false,
     "start_time": "2020-11-03T04:50:24.544912",
     "status": "completed"
    },
    "tags": []
   },
   "outputs": [],
   "source": [
    "# ===== INIT TRAIN DATASET============================================================\n",
    "train_cfg = cfg[\"train_data_loader\"]\n",
    "rasterizer = build_rasterizer(cfg, dm)\n",
    "train_zarr = ChunkedDataset(dm.require(train_cfg[\"key\"])).open()\n",
    "train_dataset = AgentDataset(cfg, train_zarr, rasterizer)"
   ]
  },
  {
   "cell_type": "code",
   "execution_count": 11,
   "metadata": {
    "execution": {
     "iopub.execute_input": "2020-11-03T04:51:26.061686Z",
     "iopub.status.busy": "2020-11-03T04:51:26.061046Z",
     "iopub.status.idle": "2020-11-03T04:51:26.073224Z",
     "shell.execute_reply": "2020-11-03T04:51:26.072376Z"
    },
    "papermill": {
     "duration": 0.047001,
     "end_time": "2020-11-03T04:51:26.073379",
     "exception": false,
     "start_time": "2020-11-03T04:51:26.026378",
     "status": "completed"
    },
    "tags": []
   },
   "outputs": [
    {
     "name": "stdout",
     "output_type": "stream",
     "text": [
      "Length of Train dataset is  22496709\n",
      "==================================TRAIN DATA==================================\n",
      "+------------+------------+------------+---------------+-----------------+----------------------+----------------------+----------------------+---------------------+\n",
      "| Num Scenes | Num Frames | Num Agents | Num TR lights | Total Time (hr) | Avg Frames per Scene | Avg Agents per Frame | Avg Scene Time (sec) | Avg Frame frequency |\n",
      "+------------+------------+------------+---------------+-----------------+----------------------+----------------------+----------------------+---------------------+\n",
      "|   16265    |  4039527   | 320124624  |    38735988   |      112.19     |        248.36        |        79.25         |        24.83         |        10.00        |\n",
      "+------------+------------+------------+---------------+-----------------+----------------------+----------------------+----------------------+---------------------+\n"
     ]
    }
   ],
   "source": [
    "print('Length of Train dataset is ' ,len(train_dataset))\n",
    "print(\"==================================TRAIN DATA==================================\")\n",
    "print(train_dataset)"
   ]
  },
  {
   "cell_type": "code",
   "execution_count": 12,
   "metadata": {
    "execution": {
     "iopub.execute_input": "2020-11-03T04:51:26.136086Z",
     "iopub.status.busy": "2020-11-03T04:51:26.134924Z",
     "iopub.status.idle": "2020-11-03T04:51:27.349679Z",
     "shell.execute_reply": "2020-11-03T04:51:27.350824Z"
    },
    "papermill": {
     "duration": 1.249476,
     "end_time": "2020-11-03T04:51:27.351018",
     "exception": false,
     "start_time": "2020-11-03T04:51:26.101542",
     "status": "completed"
    },
    "tags": []
   },
   "outputs": [
    {
     "name": "stdout",
     "output_type": "stream",
     "text": [
      "Before slicing, start indices are  [ 4544818 11783688  2821987 10532781  1993967 15711361  7726097   547516\n",
      " 17556178  7275034]\n"
     ]
    }
   ],
   "source": [
    "sampled_indices = np.random.choice(len(train_dataset), size = len(train_dataset), replace = False)\n",
    "print('Before slicing, start indices are ', sampled_indices[0:10])"
   ]
  },
  {
   "cell_type": "code",
   "execution_count": 13,
   "metadata": {
    "execution": {
     "iopub.execute_input": "2020-11-03T04:51:27.445438Z",
     "iopub.status.busy": "2020-11-03T04:51:27.444600Z",
     "iopub.status.idle": "2020-11-03T04:51:27.448729Z",
     "shell.execute_reply": "2020-11-03T04:51:27.449424Z"
    },
    "papermill": {
     "duration": 0.053819,
     "end_time": "2020-11-03T04:51:27.449589",
     "exception": false,
     "start_time": "2020-11-03T04:51:27.395770",
     "status": "completed"
    },
    "tags": []
   },
   "outputs": [
    {
     "data": {
      "text/plain": [
       "7501"
      ]
     },
     "execution_count": 13,
     "metadata": {},
     "output_type": "execute_result"
    }
   ],
   "source": [
    "TRAIN_START_INDICES"
   ]
  },
  {
   "cell_type": "code",
   "execution_count": 14,
   "metadata": {
    "execution": {
     "iopub.execute_input": "2020-11-03T04:51:27.540732Z",
     "iopub.status.busy": "2020-11-03T04:51:27.539851Z",
     "iopub.status.idle": "2020-11-03T04:51:27.545722Z",
     "shell.execute_reply": "2020-11-03T04:51:27.544929Z"
    },
    "papermill": {
     "duration": 0.054642,
     "end_time": "2020-11-03T04:51:27.545953",
     "exception": false,
     "start_time": "2020-11-03T04:51:27.491311",
     "status": "completed"
    },
    "tags": []
   },
   "outputs": [
    {
     "name": "stdout",
     "output_type": "stream",
     "text": [
      "After slicing, start indices are  [ 7308940 12310037  7954450  5205900 11035369  5474937 15295870  8824507\n",
      "  3674175 16589186]\n"
     ]
    }
   ],
   "source": [
    "sampled_indices = sampled_indices[TRAIN_START_INDICES:]\n",
    "print('After slicing, start indices are ', sampled_indices[0:10])"
   ]
  },
  {
   "cell_type": "code",
   "execution_count": 15,
   "metadata": {
    "execution": {
     "iopub.execute_input": "2020-11-03T04:51:27.613332Z",
     "iopub.status.busy": "2020-11-03T04:51:27.612522Z",
     "iopub.status.idle": "2020-11-03T04:51:27.616105Z",
     "shell.execute_reply": "2020-11-03T04:51:27.615456Z"
    },
    "papermill": {
     "duration": 0.036387,
     "end_time": "2020-11-03T04:51:27.616206",
     "exception": false,
     "start_time": "2020-11-03T04:51:27.579819",
     "status": "completed"
    },
    "tags": []
   },
   "outputs": [],
   "source": [
    "Datasampler = SubsetRandomSampler(sampled_indices)"
   ]
  },
  {
   "cell_type": "code",
   "execution_count": 16,
   "metadata": {
    "execution": {
     "iopub.execute_input": "2020-11-03T04:51:27.683111Z",
     "iopub.status.busy": "2020-11-03T04:51:27.681305Z",
     "iopub.status.idle": "2020-11-03T04:51:27.683803Z",
     "shell.execute_reply": "2020-11-03T04:51:27.684313Z"
    },
    "papermill": {
     "duration": 0.0373,
     "end_time": "2020-11-03T04:51:27.684478",
     "exception": false,
     "start_time": "2020-11-03T04:51:27.647178",
     "status": "completed"
    },
    "tags": []
   },
   "outputs": [],
   "source": [
    "train_dataloader = DataLoader(train_dataset, sampler=Datasampler, batch_size=train_cfg[\"batch_size\"], \n",
    "                             num_workers=train_cfg[\"num_workers\"])"
   ]
  },
  {
   "cell_type": "markdown",
   "metadata": {
    "papermill": {
     "duration": 0.028259,
     "end_time": "2020-11-03T04:51:27.741691",
     "exception": false,
     "start_time": "2020-11-03T04:51:27.713432",
     "status": "completed"
    },
    "tags": []
   },
   "source": [
    "## Loss function"
   ]
  },
  {
   "cell_type": "code",
   "execution_count": 17,
   "metadata": {
    "execution": {
     "iopub.execute_input": "2020-11-03T04:51:27.817479Z",
     "iopub.status.busy": "2020-11-03T04:51:27.811527Z",
     "iopub.status.idle": "2020-11-03T04:51:27.820299Z",
     "shell.execute_reply": "2020-11-03T04:51:27.819828Z"
    },
    "papermill": {
     "duration": 0.050868,
     "end_time": "2020-11-03T04:51:27.820414",
     "exception": false,
     "start_time": "2020-11-03T04:51:27.769546",
     "status": "completed"
    },
    "tags": []
   },
   "outputs": [],
   "source": [
    "# --- Function utils ---\n",
    "# Original code from https://github.com/lyft/l5kit/blob/20ab033c01610d711c3d36e1963ecec86e8b85b6/l5kit/l5kit/evaluation/metrics.py\n",
    "from torch import Tensor\n",
    "\n",
    "\n",
    "def pytorch_neg_multi_log_likelihood_batch(\n",
    "    gt: Tensor, pred: Tensor, confidences: Tensor, avails: Tensor\n",
    ") -> Tensor:\n",
    "    \"\"\"\n",
    "    Compute a negative log-likelihood for the multi-modal scenario.\n",
    "    log-sum-exp trick is used here to avoid underflow and overflow, For more information about it see:\n",
    "    https://en.wikipedia.org/wiki/LogSumExp#log-sum-exp_trick_for_log-domain_calculations\n",
    "    https://timvieira.github.io/blog/post/2014/02/11/exp-normalize-trick/\n",
    "    https://leimao.github.io/blog/LogSumExp/\n",
    "    Args:\n",
    "        gt (Tensor): array of shape (bs)x(time)x(2D coords)\n",
    "        pred (Tensor): array of shape (bs)x(modes)x(time)x(2D coords)\n",
    "        confidences (Tensor): array of shape (bs)x(modes) with a confidence for each mode in each sample\n",
    "        avails (Tensor): array of shape (bs)x(time) with the availability for each gt timestep\n",
    "    Returns:\n",
    "        Tensor: negative log-likelihood for this example, a single float number\n",
    "    \"\"\"\n",
    "    assert len(pred.shape) == 4, f\"expected 3D (MxTxC) array for pred, got {pred.shape}\"\n",
    "    batch_size, num_modes, future_len, num_coords = pred.shape\n",
    "\n",
    "    assert gt.shape == (batch_size, future_len, num_coords), f\"expected 2D (Time x Coords) array for gt, got {gt.shape}\"\n",
    "    assert confidences.shape == (batch_size, num_modes), f\"expected 1D (Modes) array for gt, got {confidences.shape}\"\n",
    "    assert torch.allclose(torch.sum(confidences, dim=1), confidences.new_ones((batch_size,))), \"confidences should sum to 1\"\n",
    "    assert avails.shape == (batch_size, future_len), f\"expected 1D (Time) array for gt, got {avails.shape}\"\n",
    "    # assert all data are valid\n",
    "    assert torch.isfinite(pred).all(), \"invalid value found in pred\"\n",
    "    assert torch.isfinite(gt).all(), \"invalid value found in gt\"\n",
    "    assert torch.isfinite(confidences).all(), \"invalid value found in confidences\"\n",
    "    assert torch.isfinite(avails).all(), \"invalid value found in avails\"\n",
    "\n",
    "    # convert to (batch_size, num_modes, future_len, num_coords)\n",
    "    gt = torch.unsqueeze(gt, 1)  # add modes\n",
    "    avails = avails[:, None, :, None]  # add modes and cords\n",
    "\n",
    "    # error (batch_size, num_modes, future_len)\n",
    "    error = torch.sum(((gt - pred) * avails) ** 2, dim=-1)  # reduce coords and use availability\n",
    "\n",
    "    with np.errstate(divide=\"ignore\"):  # when confidence is 0 log goes to -inf, but we're fine with it\n",
    "        # error (batch_size, num_modes)\n",
    "        error = torch.log(confidences) - 0.5 * torch.sum(error, dim=-1)  # reduce time\n",
    "\n",
    "    # use max aggregator on modes for numerical stability\n",
    "    # error (batch_size, num_modes)\n",
    "    max_value, _ = error.max(dim=1, keepdim=True)  # error are negative at this point, so max() gives the minimum one\n",
    "    error = -torch.log(torch.sum(torch.exp(error - max_value), dim=-1, keepdim=True)) - max_value  # reduce modes\n",
    "    # print(\"error\", error)\n",
    "    return torch.mean(error)\n",
    "\n",
    "\n",
    "def pytorch_neg_multi_log_likelihood_single(\n",
    "    gt: Tensor, pred: Tensor, avails: Tensor\n",
    ") -> Tensor:\n",
    "    \"\"\"\n",
    "\n",
    "    Args:\n",
    "        gt (Tensor): array of shape (bs)x(time)x(2D coords)\n",
    "        pred (Tensor): array of shape (bs)x(time)x(2D coords)\n",
    "        avails (Tensor): array of shape (bs)x(time) with the availability for each gt timestep\n",
    "    Returns:\n",
    "        Tensor: negative log-likelihood for this example, a single float number\n",
    "    \"\"\"\n",
    "    # pred (bs)x(time)x(2D coords) --> (bs)x(mode=1)x(time)x(2D coords)\n",
    "    # create confidence (bs)x(mode=1)\n",
    "    batch_size, future_len, num_coords = pred.shape\n",
    "    confidences = pred.new_ones((batch_size, 1))\n",
    "    return pytorch_neg_multi_log_likelihood_batch(gt, pred.unsqueeze(1), confidences, avails)"
   ]
  },
  {
   "cell_type": "markdown",
   "metadata": {
    "papermill": {
     "duration": 0.029062,
     "end_time": "2020-11-03T04:51:27.878175",
     "exception": false,
     "start_time": "2020-11-03T04:51:27.849113",
     "status": "completed"
    },
    "tags": []
   },
   "source": [
    "## Model"
   ]
  },
  {
   "cell_type": "markdown",
   "metadata": {
    "papermill": {
     "duration": 0.029352,
     "end_time": "2020-11-03T04:51:27.936629",
     "exception": false,
     "start_time": "2020-11-03T04:51:27.907277",
     "status": "completed"
    },
    "tags": []
   },
   "source": [
    "Next we define the baseline model. Note that this model will return three possible trajectories together with confidence score for each trajectory."
   ]
  },
  {
   "cell_type": "code",
   "execution_count": 18,
   "metadata": {
    "execution": {
     "iopub.execute_input": "2020-11-03T04:51:28.018700Z",
     "iopub.status.busy": "2020-11-03T04:51:28.016960Z",
     "iopub.status.idle": "2020-11-03T04:51:28.019495Z",
     "shell.execute_reply": "2020-11-03T04:51:28.020027Z"
    },
    "papermill": {
     "duration": 0.055,
     "end_time": "2020-11-03T04:51:28.020162",
     "exception": false,
     "start_time": "2020-11-03T04:51:27.965162",
     "status": "completed"
    },
    "tags": []
   },
   "outputs": [],
   "source": [
    "class LyftMultiModel(nn.Module):\n",
    "\n",
    "    def __init__(self, cfg: Dict, num_modes=3):\n",
    "        super().__init__()\n",
    "\n",
    "        architecture = cfg[\"model_params\"][\"model_architecture\"]\n",
    "        backbone = eval(architecture)(pretrained=True)\n",
    "        self.backbone = backbone\n",
    "\n",
    "        num_history_channels = (cfg[\"model_params\"][\"history_num_frames\"] + 1) * 2\n",
    "        num_in_channels = 3 + num_history_channels\n",
    "\n",
    "        self.backbone.conv1 = nn.Conv2d(\n",
    "            num_in_channels,\n",
    "            self.backbone.conv1.out_channels,\n",
    "            kernel_size=self.backbone.conv1.kernel_size,\n",
    "            stride=self.backbone.conv1.stride,\n",
    "            padding=self.backbone.conv1.padding,\n",
    "            bias=False,\n",
    "        )\n",
    "\n",
    "        # This is 512 for resnet18 and resnet34;\n",
    "        # And it is 2048 for the other resnets\n",
    "        \n",
    "        if architecture == \"resnet50\":\n",
    "            backbone_out_features = 2048\n",
    "        else:\n",
    "            backbone_out_features = 512\n",
    "\n",
    "        self.dropout = nn.Dropout(p=0.3)\n",
    "            \n",
    "        # X, Y coords for the future positions (output shape: batch_sizex50x2)\n",
    "        self.future_len = cfg[\"model_params\"][\"future_num_frames\"]\n",
    "        num_targets = 2 * self.future_len\n",
    "        other_agent_features = num_history_channels + 3 # extent info is 3d \n",
    "        total_num_features = backbone_out_features + other_agent_features\n",
    "        self.head = nn.Linear(in_features=total_num_features, out_features=1024)\n",
    "\n",
    "        # final prediction - a fc layer with desired number of outputs, no activation\n",
    "        self.num_preds = num_targets * num_modes\n",
    "        self.num_modes = num_modes\n",
    "        self.logit = nn.Linear(1024, out_features=self.num_preds + num_modes)\n",
    "\n",
    "    def forward(self, x, agent_data):\n",
    "        x = self.backbone.conv1(x)\n",
    "        x = self.backbone.bn1(x)\n",
    "        x = self.backbone.relu(x)\n",
    "        x = self.backbone.maxpool(x)\n",
    "\n",
    "        x = self.backbone.layer1(x)\n",
    "        x = self.backbone.layer2(x)\n",
    "        x = self.backbone.layer3(x)\n",
    "        x = self.backbone.layer4(x)\n",
    "\n",
    "        x = self.backbone.avgpool(x)\n",
    "        x = torch.flatten(x, 1)\n",
    "        \n",
    "        # adding other agent data to image data\n",
    "        x = torch.cat((x, agent_data), dim=1)\n",
    "\n",
    "        # fc with relu activation and dropout\n",
    "        x = self.dropout(F.relu(self.head(x)))\n",
    "        x = self.logit(x)\n",
    "\n",
    "        # pred (batch_size)x(modes)x(time)x(2D coords)\n",
    "        # confidences (batch_size)x(modes)\n",
    "        bs, _ = x.shape\n",
    "        pred, confidences = torch.split(x, self.num_preds, dim=1)\n",
    "        pred = pred.view(bs, self.num_modes, self.future_len, 2)\n",
    "        assert confidences.shape == (bs, self.num_modes)\n",
    "        confidences = torch.softmax(confidences, dim=1)\n",
    "        return pred, confidences"
   ]
  },
  {
   "cell_type": "code",
   "execution_count": 19,
   "metadata": {
    "execution": {
     "iopub.execute_input": "2020-11-03T04:51:28.090162Z",
     "iopub.status.busy": "2020-11-03T04:51:28.088490Z",
     "iopub.status.idle": "2020-11-03T04:51:28.091211Z",
     "shell.execute_reply": "2020-11-03T04:51:28.091793Z"
    },
    "papermill": {
     "duration": 0.042795,
     "end_time": "2020-11-03T04:51:28.091935",
     "exception": false,
     "start_time": "2020-11-03T04:51:28.049140",
     "status": "completed"
    },
    "tags": []
   },
   "outputs": [],
   "source": [
    "def forward(data, model, device, criterion = pytorch_neg_multi_log_likelihood_batch):\n",
    "    inputs = data[\"image\"].to(device)\n",
    "    target_availabilities = data[\"target_availabilities\"].to(device)\n",
    "    targets = data[\"target_positions\"].to(device)\n",
    "\n",
    "    history_positions = data['history_positions'].to(device).view(TRAIN_BATCH_SIZE, -1)\n",
    "    # centroid = data['centroid'].to(device).float()\n",
    "    # yaw = data['yaw'].to(device).view(TRAIN_BATCH_SIZE, 1).float()\n",
    "    # agent_data = torch.cat((history_positions, centroid, yaw, extent), dim=1)\n",
    "    extent = data['extent'].to(device) / EXTENT_RANGE\n",
    "    agent_data = torch.cat((history_positions, extent), dim=1)\n",
    "    \n",
    "    # Forward pass\n",
    "    preds, confidences = model(inputs, agent_data)\n",
    "    loss = criterion(targets, preds, confidences, target_availabilities)\n",
    "    return loss, preds, confidences"
   ]
  },
  {
   "cell_type": "code",
   "execution_count": 20,
   "metadata": {
    "execution": {
     "iopub.execute_input": "2020-11-03T04:51:28.156437Z",
     "iopub.status.busy": "2020-11-03T04:51:28.155634Z",
     "iopub.status.idle": "2020-11-03T04:51:28.159435Z",
     "shell.execute_reply": "2020-11-03T04:51:28.159966Z"
    },
    "papermill": {
     "duration": 0.0386,
     "end_time": "2020-11-03T04:51:28.160098",
     "exception": false,
     "start_time": "2020-11-03T04:51:28.121498",
     "status": "completed"
    },
    "tags": []
   },
   "outputs": [
    {
     "name": "stdout",
     "output_type": "stream",
     "text": [
      "device cuda:0\n"
     ]
    }
   ],
   "source": [
    "# ==== INIT MODEL=================\n",
    "device = torch.device(\"cuda:0\" if torch.cuda.is_available() else \"cpu\")\n",
    "print(f'device {device}')"
   ]
  },
  {
   "cell_type": "code",
   "execution_count": 21,
   "metadata": {
    "execution": {
     "iopub.execute_input": "2020-11-03T04:51:28.225157Z",
     "iopub.status.busy": "2020-11-03T04:51:28.224562Z",
     "iopub.status.idle": "2020-11-03T04:51:31.118606Z",
     "shell.execute_reply": "2020-11-03T04:51:31.118050Z"
    },
    "papermill": {
     "duration": 2.928693,
     "end_time": "2020-11-03T04:51:31.118753",
     "exception": false,
     "start_time": "2020-11-03T04:51:28.190060",
     "status": "completed"
    },
    "tags": []
   },
   "outputs": [
    {
     "name": "stderr",
     "output_type": "stream",
     "text": [
      "Downloading: \"https://download.pytorch.org/models/resnet34-333f7ec4.pth\" to /root/.cache/torch/checkpoints/resnet34-333f7ec4.pth\n"
     ]
    },
    {
     "data": {
      "application/vnd.jupyter.widget-view+json": {
       "model_id": "3f0bd897042d472180970a6b55400948",
       "version_major": 2,
       "version_minor": 0
      },
      "text/plain": [
       "HBox(children=(FloatProgress(value=0.0, max=87306240.0), HTML(value='')))"
      ]
     },
     "metadata": {},
     "output_type": "display_data"
    },
    {
     "name": "stdout",
     "output_type": "stream",
     "text": [
      "\n"
     ]
    }
   ],
   "source": [
    "model = LyftMultiModel(cfg)"
   ]
  },
  {
   "cell_type": "code",
   "execution_count": 22,
   "metadata": {
    "execution": {
     "iopub.execute_input": "2020-11-03T04:51:31.193050Z",
     "iopub.status.busy": "2020-11-03T04:51:31.192309Z",
     "iopub.status.idle": "2020-11-03T04:51:35.081787Z",
     "shell.execute_reply": "2020-11-03T04:51:35.082439Z"
    },
    "papermill": {
     "duration": 3.932762,
     "end_time": "2020-11-03T04:51:35.082610",
     "exception": false,
     "start_time": "2020-11-03T04:51:31.149848",
     "status": "completed"
    },
    "tags": []
   },
   "outputs": [
    {
     "name": "stdout",
     "output_type": "stream",
     "text": [
      "device cuda:0\n"
     ]
    }
   ],
   "source": [
    "model.to(device)\n",
    "optimizer = optim.Adam(model.parameters(), lr=cfg[\"model_params\"][\"lr\"])\n",
    "print(f'device {device}')"
   ]
  },
  {
   "cell_type": "code",
   "execution_count": 23,
   "metadata": {
    "execution": {
     "iopub.execute_input": "2020-11-03T04:51:35.150009Z",
     "iopub.status.busy": "2020-11-03T04:51:35.149399Z",
     "iopub.status.idle": "2020-11-03T04:51:35.756730Z",
     "shell.execute_reply": "2020-11-03T04:51:35.756124Z"
    },
    "papermill": {
     "duration": 0.642861,
     "end_time": "2020-11-03T04:51:35.756869",
     "exception": false,
     "start_time": "2020-11-03T04:51:35.114008",
     "status": "completed"
    },
    "tags": []
   },
   "outputs": [],
   "source": [
    "# load weight if there is a pretrained model\n",
    "weight_path = cfg[\"model_params\"][\"weight_path\"]\n",
    "if weight_path != '':\n",
    "    checkpoint = torch.load(weight_path)\n",
    "    model.load_state_dict(checkpoint['state_dict'])\n",
    "    optimizer.load_state_dict(checkpoint['optimizer'])"
   ]
  },
  {
   "cell_type": "code",
   "execution_count": 24,
   "metadata": {
    "execution": {
     "iopub.execute_input": "2020-11-03T04:51:35.822865Z",
     "iopub.status.busy": "2020-11-03T04:51:35.821832Z",
     "iopub.status.idle": "2020-11-03T04:51:35.826891Z",
     "shell.execute_reply": "2020-11-03T04:51:35.826320Z"
    },
    "papermill": {
     "duration": 0.040061,
     "end_time": "2020-11-03T04:51:35.826990",
     "exception": false,
     "start_time": "2020-11-03T04:51:35.786929",
     "status": "completed"
    },
    "tags": []
   },
   "outputs": [
    {
     "data": {
      "text/plain": [
       "22728151"
      ]
     },
     "execution_count": 24,
     "metadata": {},
     "output_type": "execute_result"
    }
   ],
   "source": [
    "find_no_of_trainable_params(model)"
   ]
  },
  {
   "cell_type": "markdown",
   "metadata": {
    "papermill": {
     "duration": 0.032211,
     "end_time": "2020-11-03T04:51:35.891453",
     "exception": false,
     "start_time": "2020-11-03T04:51:35.859242",
     "status": "completed"
    },
    "tags": []
   },
   "source": [
    "## Training loop"
   ]
  },
  {
   "cell_type": "markdown",
   "metadata": {
    "papermill": {
     "duration": 0.030701,
     "end_time": "2020-11-03T04:51:35.952682",
     "exception": false,
     "start_time": "2020-11-03T04:51:35.921981",
     "status": "completed"
    },
    "tags": []
   },
   "source": [
    "Next let us implement the training loop, when the **train** parameter is set to True. "
   ]
  },
  {
   "cell_type": "code",
   "execution_count": 25,
   "metadata": {
    "execution": {
     "iopub.execute_input": "2020-11-03T04:51:36.018674Z",
     "iopub.status.busy": "2020-11-03T04:51:36.018073Z",
     "iopub.status.idle": "2020-11-03T04:51:36.022289Z",
     "shell.execute_reply": "2020-11-03T04:51:36.022729Z"
    },
    "papermill": {
     "duration": 0.040175,
     "end_time": "2020-11-03T04:51:36.022895",
     "exception": false,
     "start_time": "2020-11-03T04:51:35.982720",
     "status": "completed"
    },
    "tags": []
   },
   "outputs": [
    {
     "data": {
      "text/plain": [
       "7501"
      ]
     },
     "execution_count": 25,
     "metadata": {},
     "output_type": "execute_result"
    }
   ],
   "source": [
    "TRAIN_START_INDICES"
   ]
  },
  {
   "cell_type": "code",
   "execution_count": 26,
   "metadata": {
    "execution": {
     "iopub.execute_input": "2020-11-03T04:51:36.094419Z",
     "iopub.status.busy": "2020-11-03T04:51:36.093399Z",
     "iopub.status.idle": "2020-11-03T04:51:36.099386Z",
     "shell.execute_reply": "2020-11-03T04:51:36.098807Z"
    },
    "papermill": {
     "duration": 0.044462,
     "end_time": "2020-11-03T04:51:36.099489",
     "exception": false,
     "start_time": "2020-11-03T04:51:36.055027",
     "status": "completed"
    },
    "tags": []
   },
   "outputs": [
    {
     "name": "stdout",
     "output_type": "stream",
     "text": [
      "TRAINING ABOUT TO START ... FROM  7501   BATCH AND FOR  7505  BATCHES  WITH BATCH SIZE 32\n"
     ]
    }
   ],
   "source": [
    "print('TRAINING ABOUT TO START ... FROM ', TRAIN_START_INDICES, \n",
    "      '  BATCH AND FOR ', cfg['train_params']['max_num_steps'], ' BATCHES', ' WITH BATCH SIZE', TRAIN_BATCH_SIZE)"
   ]
  },
  {
   "cell_type": "code",
   "execution_count": 27,
   "metadata": {
    "execution": {
     "iopub.execute_input": "2020-11-03T04:51:36.187154Z",
     "iopub.status.busy": "2020-11-03T04:51:36.186399Z",
     "iopub.status.idle": "2020-11-03T11:10:29.340090Z",
     "shell.execute_reply": "2020-11-03T11:10:29.334387Z"
    },
    "papermill": {
     "duration": 22733.207592,
     "end_time": "2020-11-03T11:10:29.340272",
     "exception": false,
     "start_time": "2020-11-03T04:51:36.132680",
     "status": "completed"
    },
    "tags": []
   },
   "outputs": [
    {
     "name": "stderr",
     "output_type": "stream",
     "text": [
      "loss: 65.34056091308594 loss(avg): 58.99765496193608: 100%|██████████| 7505/7505 [6:18:36<00:00,  3.03s/it]\n"
     ]
    },
    {
     "name": "stdout",
     "output_type": "stream",
     "text": [
      "Total training time is 378.64034176270167 mins\n",
      "   iterations  metrics (avg)  elapsed_time (mins)\n",
      "0        7750      66.387266            13.032750\n",
      "1        8000      64.731795            25.719415\n",
      "2        8250      66.138873            38.216005\n",
      "3        8500      65.421048            50.723547\n",
      "4        8750      65.215366            63.259703\n"
     ]
    }
   ],
   "source": [
    "# ==== TRAINING LOOP =========================================================\n",
    "if cfg[\"model_params\"][\"train\"]:\n",
    "    \n",
    "    tr_it = iter(train_dataloader)\n",
    "    progress_bar = tqdm(range(TRAIN_START_INDICES, \n",
    "                              TRAIN_START_INDICES + cfg[\"train_params\"][\"max_num_steps\"]))\n",
    "    num_iter = cfg[\"train_params\"][\"max_num_steps\"]\n",
    "    losses_train = []\n",
    "    iterations = []\n",
    "    metrics = []\n",
    "    times = []\n",
    "    model_name = cfg[\"model_params\"][\"model_name\"]\n",
    "    start = time.time()\n",
    "    \n",
    "    for i in progress_bar:\n",
    "        try:\n",
    "            data = next(tr_it)\n",
    "        except StopIteration:\n",
    "            tr_it = iter(train_dataloader)\n",
    "            data = next(tr_it)\n",
    "        \n",
    "        # Forward pass\n",
    "        model.train()\n",
    "        torch.set_grad_enabled(True)\n",
    "        loss, _, _ = forward(data, model, device)\n",
    "\n",
    "        # Backward pass\n",
    "        optimizer.zero_grad()\n",
    "        loss.backward()\n",
    "        optimizer.step()\n",
    "\n",
    "        losses_train.append(loss.item())\n",
    "\n",
    "        progress_bar.set_description(f\"loss: {loss.item()} loss(avg): {np.mean(losses_train)}\")\n",
    "        if i % cfg['train_params']['checkpoint_every_n_steps'] == 0:\n",
    "            sample_number = i * cfg['train_data_loader']['batch_size']            \n",
    "            state = {\n",
    "              'state_dict': model.state_dict(),\n",
    "              'optimizer': optimizer.state_dict(),\n",
    "            }\n",
    "            torch.save(state, f'{model_name}_{sample_number}k.pth')\n",
    "            iterations.append(i)\n",
    "            metrics.append(np.mean(losses_train))\n",
    "            times.append((time.time()-start)/60)\n",
    "\n",
    "    sample_number = i * cfg['train_data_loader']['batch_size']\n",
    "    results = pd.DataFrame({'iterations': iterations, 'metrics (avg)': metrics, 'elapsed_time (mins)': times})\n",
    "    results.to_csv(f\"train_metrics_{model_name}_{sample_number}k.csv\", index = False)\n",
    "    train_losses_csv = pd.DataFrame({'iteration': TRAIN_START_INDICES + np.arange(len(losses_train)), \n",
    "                                 'losses_train': losses_train})\n",
    "    train_losses_csv.to_csv(f\"train_losses_{model_name}_{sample_number}k.csv\", index = False)\n",
    "    print(f\"Total training time is {(time.time()-start)/60} mins\")\n",
    "    print(results.head())"
   ]
  },
  {
   "cell_type": "code",
   "execution_count": null,
   "metadata": {
    "papermill": {
     "duration": 5.434151,
     "end_time": "2020-11-03T11:10:39.890020",
     "exception": false,
     "start_time": "2020-11-03T11:10:34.455869",
     "status": "completed"
    },
    "tags": []
   },
   "outputs": [],
   "source": []
  }
 ],
 "metadata": {
  "kernelspec": {
   "display_name": "Python 3",
   "language": "python",
   "name": "python3"
  },
  "language_info": {
   "codemirror_mode": {
    "name": "ipython",
    "version": 3
   },
   "file_extension": ".py",
   "mimetype": "text/x-python",
   "name": "python",
   "nbconvert_exporter": "python",
   "pygments_lexer": "ipython3",
   "version": "3.6.12"
  },
  "papermill": {
   "duration": 22832.88951,
   "end_time": "2020-11-03T11:10:45.757562",
   "environment_variables": {},
   "exception": null,
   "input_path": "__notebook__.ipynb",
   "output_path": "__notebook__.ipynb",
   "parameters": {},
   "start_time": "2020-11-03T04:50:12.868052",
   "version": "2.1.0"
  },
  "widgets": {
   "application/vnd.jupyter.widget-state+json": {
    "state": {
     "3b7fe8591de544e3ba04b94ea35060be": {
      "model_module": "@jupyter-widgets/controls",
      "model_module_version": "1.5.0",
      "model_name": "FloatProgressModel",
      "state": {
       "_dom_classes": [],
       "_model_module": "@jupyter-widgets/controls",
       "_model_module_version": "1.5.0",
       "_model_name": "FloatProgressModel",
       "_view_count": null,
       "_view_module": "@jupyter-widgets/controls",
       "_view_module_version": "1.5.0",
       "_view_name": "ProgressView",
       "bar_style": "success",
       "description": "100%",
       "description_tooltip": null,
       "layout": "IPY_MODEL_f87450f6c5ef4c108db06fbbe545379a",
       "max": 87306240,
       "min": 0,
       "orientation": "horizontal",
       "style": "IPY_MODEL_e68b279cf3a84c209dc81582e06d9f6d",
       "value": 87306240
      }
     },
     "3f0bd897042d472180970a6b55400948": {
      "model_module": "@jupyter-widgets/controls",
      "model_module_version": "1.5.0",
      "model_name": "HBoxModel",
      "state": {
       "_dom_classes": [],
       "_model_module": "@jupyter-widgets/controls",
       "_model_module_version": "1.5.0",
       "_model_name": "HBoxModel",
       "_view_count": null,
       "_view_module": "@jupyter-widgets/controls",
       "_view_module_version": "1.5.0",
       "_view_name": "HBoxView",
       "box_style": "",
       "children": [
        "IPY_MODEL_3b7fe8591de544e3ba04b94ea35060be",
        "IPY_MODEL_6e393462025f431fb231395cc3819432"
       ],
       "layout": "IPY_MODEL_c213ed8f0d94492abc5ebf573ac7b3d8"
      }
     },
     "6e393462025f431fb231395cc3819432": {
      "model_module": "@jupyter-widgets/controls",
      "model_module_version": "1.5.0",
      "model_name": "HTMLModel",
      "state": {
       "_dom_classes": [],
       "_model_module": "@jupyter-widgets/controls",
       "_model_module_version": "1.5.0",
       "_model_name": "HTMLModel",
       "_view_count": null,
       "_view_module": "@jupyter-widgets/controls",
       "_view_module_version": "1.5.0",
       "_view_name": "HTMLView",
       "description": "",
       "description_tooltip": null,
       "layout": "IPY_MODEL_9384cf2978264d1196c1025d424f9d0c",
       "placeholder": "​",
       "style": "IPY_MODEL_91d325c2d37444e7912d04a7a6f9738c",
       "value": " 83.3M/83.3M [00:02&lt;00:00, 42.4MB/s]"
      }
     },
     "91d325c2d37444e7912d04a7a6f9738c": {
      "model_module": "@jupyter-widgets/controls",
      "model_module_version": "1.5.0",
      "model_name": "DescriptionStyleModel",
      "state": {
       "_model_module": "@jupyter-widgets/controls",
       "_model_module_version": "1.5.0",
       "_model_name": "DescriptionStyleModel",
       "_view_count": null,
       "_view_module": "@jupyter-widgets/base",
       "_view_module_version": "1.2.0",
       "_view_name": "StyleView",
       "description_width": ""
      }
     },
     "9384cf2978264d1196c1025d424f9d0c": {
      "model_module": "@jupyter-widgets/base",
      "model_module_version": "1.2.0",
      "model_name": "LayoutModel",
      "state": {
       "_model_module": "@jupyter-widgets/base",
       "_model_module_version": "1.2.0",
       "_model_name": "LayoutModel",
       "_view_count": null,
       "_view_module": "@jupyter-widgets/base",
       "_view_module_version": "1.2.0",
       "_view_name": "LayoutView",
       "align_content": null,
       "align_items": null,
       "align_self": null,
       "border": null,
       "bottom": null,
       "display": null,
       "flex": null,
       "flex_flow": null,
       "grid_area": null,
       "grid_auto_columns": null,
       "grid_auto_flow": null,
       "grid_auto_rows": null,
       "grid_column": null,
       "grid_gap": null,
       "grid_row": null,
       "grid_template_areas": null,
       "grid_template_columns": null,
       "grid_template_rows": null,
       "height": null,
       "justify_content": null,
       "justify_items": null,
       "left": null,
       "margin": null,
       "max_height": null,
       "max_width": null,
       "min_height": null,
       "min_width": null,
       "object_fit": null,
       "object_position": null,
       "order": null,
       "overflow": null,
       "overflow_x": null,
       "overflow_y": null,
       "padding": null,
       "right": null,
       "top": null,
       "visibility": null,
       "width": null
      }
     },
     "c213ed8f0d94492abc5ebf573ac7b3d8": {
      "model_module": "@jupyter-widgets/base",
      "model_module_version": "1.2.0",
      "model_name": "LayoutModel",
      "state": {
       "_model_module": "@jupyter-widgets/base",
       "_model_module_version": "1.2.0",
       "_model_name": "LayoutModel",
       "_view_count": null,
       "_view_module": "@jupyter-widgets/base",
       "_view_module_version": "1.2.0",
       "_view_name": "LayoutView",
       "align_content": null,
       "align_items": null,
       "align_self": null,
       "border": null,
       "bottom": null,
       "display": null,
       "flex": null,
       "flex_flow": null,
       "grid_area": null,
       "grid_auto_columns": null,
       "grid_auto_flow": null,
       "grid_auto_rows": null,
       "grid_column": null,
       "grid_gap": null,
       "grid_row": null,
       "grid_template_areas": null,
       "grid_template_columns": null,
       "grid_template_rows": null,
       "height": null,
       "justify_content": null,
       "justify_items": null,
       "left": null,
       "margin": null,
       "max_height": null,
       "max_width": null,
       "min_height": null,
       "min_width": null,
       "object_fit": null,
       "object_position": null,
       "order": null,
       "overflow": null,
       "overflow_x": null,
       "overflow_y": null,
       "padding": null,
       "right": null,
       "top": null,
       "visibility": null,
       "width": null
      }
     },
     "e68b279cf3a84c209dc81582e06d9f6d": {
      "model_module": "@jupyter-widgets/controls",
      "model_module_version": "1.5.0",
      "model_name": "ProgressStyleModel",
      "state": {
       "_model_module": "@jupyter-widgets/controls",
       "_model_module_version": "1.5.0",
       "_model_name": "ProgressStyleModel",
       "_view_count": null,
       "_view_module": "@jupyter-widgets/base",
       "_view_module_version": "1.2.0",
       "_view_name": "StyleView",
       "bar_color": null,
       "description_width": "initial"
      }
     },
     "f87450f6c5ef4c108db06fbbe545379a": {
      "model_module": "@jupyter-widgets/base",
      "model_module_version": "1.2.0",
      "model_name": "LayoutModel",
      "state": {
       "_model_module": "@jupyter-widgets/base",
       "_model_module_version": "1.2.0",
       "_model_name": "LayoutModel",
       "_view_count": null,
       "_view_module": "@jupyter-widgets/base",
       "_view_module_version": "1.2.0",
       "_view_name": "LayoutView",
       "align_content": null,
       "align_items": null,
       "align_self": null,
       "border": null,
       "bottom": null,
       "display": null,
       "flex": null,
       "flex_flow": null,
       "grid_area": null,
       "grid_auto_columns": null,
       "grid_auto_flow": null,
       "grid_auto_rows": null,
       "grid_column": null,
       "grid_gap": null,
       "grid_row": null,
       "grid_template_areas": null,
       "grid_template_columns": null,
       "grid_template_rows": null,
       "height": null,
       "justify_content": null,
       "justify_items": null,
       "left": null,
       "margin": null,
       "max_height": null,
       "max_width": null,
       "min_height": null,
       "min_width": null,
       "object_fit": null,
       "object_position": null,
       "order": null,
       "overflow": null,
       "overflow_x": null,
       "overflow_y": null,
       "padding": null,
       "right": null,
       "top": null,
       "visibility": null,
       "width": null
      }
     }
    },
    "version_major": 2,
    "version_minor": 0
   }
  }
 },
 "nbformat": 4,
 "nbformat_minor": 4
}
