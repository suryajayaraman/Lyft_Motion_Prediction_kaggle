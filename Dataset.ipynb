{
 "cells": [
  {
   "cell_type": "code",
   "execution_count": 1,
   "metadata": {},
   "outputs": [],
   "source": [
    "import torch\n",
    "import numpy as np\n",
    "from torch.utils.data import Dataset, DataLoader, SubsetRandomSampler"
   ]
  },
  {
   "cell_type": "code",
   "execution_count": 2,
   "metadata": {},
   "outputs": [
    {
     "data": {
      "text/plain": [
       "'1.19.1'"
      ]
     },
     "execution_count": 2,
     "metadata": {},
     "output_type": "execute_result"
    }
   ],
   "source": [
    "np.__version__"
   ]
  },
  {
   "cell_type": "code",
   "execution_count": 3,
   "metadata": {},
   "outputs": [],
   "source": [
    "class SampleDataset(Dataset):\n",
    "    \"\"\"Sample dataset.\"\"\"\n",
    "\n",
    "    def __init__(self):\n",
    "        test_data = {}\n",
    "        for i in range(100):\n",
    "            test_data[str(i)] = i\n",
    "        self.data = test_data\n",
    "\n",
    "    def __len__(self):\n",
    "        return len(self.data)\n",
    "\n",
    "    def __getitem__(self, idx):\n",
    "        if torch.is_tensor(idx):\n",
    "            idx = idx.tolist()\n",
    "        sample = self.data[str(idx)]\n",
    "        return sample"
   ]
  },
  {
   "cell_type": "code",
   "execution_count": 4,
   "metadata": {},
   "outputs": [
    {
     "data": {
      "text/plain": [
       "100"
      ]
     },
     "execution_count": 4,
     "metadata": {},
     "output_type": "execute_result"
    }
   ],
   "source": [
    "TestSample = SampleDataset()\n",
    "len(TestSample)"
   ]
  },
  {
   "cell_type": "code",
   "execution_count": 5,
   "metadata": {},
   "outputs": [
    {
     "name": "stdout",
     "output_type": "stream",
     "text": [
      "[38  3  8 81 89 91  5 39 32 74 49 68 15 56 21 28 46  4 55 96 77 75 25 30\n",
      " 73  1 40 79 93 24 36  6 35 99 83 54 82 45 44 33 65 78 13 80  7 26 59 42\n",
      " 29 27]\n"
     ]
    }
   ],
   "source": [
    "np.random.seed(1004)\n",
    "SAMPLES_TO_PLOT = 50\n",
    "sampled_indices = np.random.choice(len(TestSample), size = SAMPLES_TO_PLOT, replace = False)\n",
    "print(sampled_indices)"
   ]
  },
  {
   "cell_type": "code",
   "execution_count": 6,
   "metadata": {},
   "outputs": [],
   "source": [
    "a = [38,3, 8, 81, 89, 91,  5, 39, 32, 74, 49, 68, 15, 56, 21, 28, 46,  4, 55, 96, 77, 75, 25, 30,\n",
    " 73,  1, 40, 79, 93, 24, 36, 6, 35, 99, 83, 54, 82, 45, 44, 33, 65, 78, 13, 80, 7, 26, 59, 42,\n",
    " 29, 27]"
   ]
  },
  {
   "cell_type": "code",
   "execution_count": 7,
   "metadata": {},
   "outputs": [
    {
     "name": "stdout",
     "output_type": "stream",
     "text": [
      "[38  3  8 81 89 91  5 39 32 74 49 68 15 56 21 28 46  4 55 96 77 75 25 30\n",
      " 73  1 40 79 93 24 36  6 35 99 83 54 82 45 44 33 65 78 13 80  7 26 59 42\n",
      " 29 27]\n"
     ]
    }
   ],
   "source": [
    "t = SubsetRandomSampler(sampled_indices)\n",
    "print(t.indices)"
   ]
  },
  {
   "cell_type": "code",
   "execution_count": 8,
   "metadata": {},
   "outputs": [
    {
     "name": "stdout",
     "output_type": "stream",
     "text": [
      "<class 'torch.utils.data.dataloader.DataLoader'>\n"
     ]
    }
   ],
   "source": [
    "temp = DataLoader(TestSample, sampler=t, batch_size=5, shuffle=False)\n",
    "print(type(temp))"
   ]
  },
  {
   "cell_type": "code",
   "execution_count": 9,
   "metadata": {},
   "outputs": [
    {
     "name": "stdout",
     "output_type": "stream",
     "text": [
      "10\n",
      "0 tensor([96, 42, 80, 13, 93])\n",
      "1 tensor([ 1, 78, 82, 65, 99])\n",
      "2 tensor([ 7, 55, 27, 15, 32])\n",
      "3 tensor([56, 29, 28, 24, 68])\n",
      "4 tensor([59,  6, 83, 91, 39])\n",
      "5 tensor([77, 38,  4, 81, 25])\n",
      "6 tensor([44, 79, 30,  8, 26])\n",
      "7 tensor([73, 36, 33,  3,  5])\n",
      "8 tensor([74, 40, 45, 75, 49])\n",
      "9 tensor([89, 46, 21, 54, 35])\n"
     ]
    }
   ],
   "source": [
    "tr_it = iter(temp)\n",
    "print(len(temp))\n",
    "ind_list = []\n",
    "for i in range(len(temp)):\n",
    "    data = next(tr_it) \n",
    "    print(i, data)\n",
    "    ind_list.extend(data.numpy().tolist())"
   ]
  },
  {
   "cell_type": "code",
   "execution_count": 10,
   "metadata": {},
   "outputs": [
    {
     "data": {
      "text/plain": [
       "50"
      ]
     },
     "execution_count": 10,
     "metadata": {},
     "output_type": "execute_result"
    }
   ],
   "source": [
    "len(ind_list)"
   ]
  },
  {
   "cell_type": "code",
   "execution_count": 11,
   "metadata": {},
   "outputs": [
    {
     "data": {
      "text/plain": [
       "set()"
      ]
     },
     "execution_count": 11,
     "metadata": {},
     "output_type": "execute_result"
    }
   ],
   "source": [
    "set(ind_list) - set(a)"
   ]
  },
  {
   "cell_type": "code",
   "execution_count": 12,
   "metadata": {},
   "outputs": [
    {
     "data": {
      "text/plain": [
       "array([ 1,  3,  4,  5,  6,  7,  8, 13, 15, 21, 24, 25, 26, 27, 28, 29, 30,\n",
       "       32, 33, 35, 36, 38, 39, 40, 42, 44, 45, 46, 49, 54, 55, 56, 59, 65,\n",
       "       68, 73, 74, 75, 77, 78, 79, 80, 81, 82, 83, 89, 91, 93, 96, 99])"
      ]
     },
     "execution_count": 12,
     "metadata": {},
     "output_type": "execute_result"
    }
   ],
   "source": [
    "ind_list.sort()\n",
    "#ind_list\n",
    "np.array(ind_list)\n",
    "#[x for x in ind_list]"
   ]
  },
  {
   "cell_type": "code",
   "execution_count": 13,
   "metadata": {},
   "outputs": [
    {
     "data": {
      "text/plain": [
       "array([ 1,  3,  4,  5,  6,  7,  8, 13, 15, 21, 24, 25, 26, 27, 28, 29, 30,\n",
       "       32, 33, 35, 36, 38, 39, 40, 42, 44, 45, 46, 49, 54, 55, 56, 59, 65,\n",
       "       68, 73, 74, 75, 77, 78, 79, 80, 81, 82, 83, 89, 91, 93, 96, 99])"
      ]
     },
     "execution_count": 13,
     "metadata": {},
     "output_type": "execute_result"
    }
   ],
   "source": [
    "a.sort()\n",
    "np.array(a)"
   ]
  },
  {
   "cell_type": "markdown",
   "metadata": {},
   "source": [
    "## Reference\n",
    "\n",
    "1. https://pytorch.org/tutorials/beginner/data_loading_tutorial.html\n",
    "    \n",
    "2. https://pytorch.org/docs/stable/data.html#data-loading-order-and-sampler"
   ]
  }
 ],
 "metadata": {
  "kernelspec": {
   "display_name": "Python(lyft_kaggle)",
   "language": "python",
   "name": "lyft"
  },
  "language_info": {
   "codemirror_mode": {
    "name": "ipython",
    "version": 3
   },
   "file_extension": ".py",
   "mimetype": "text/x-python",
   "name": "python",
   "nbconvert_exporter": "python",
   "pygments_lexer": "ipython3",
   "version": "3.6.12"
  }
 },
 "nbformat": 4,
 "nbformat_minor": 4
}
