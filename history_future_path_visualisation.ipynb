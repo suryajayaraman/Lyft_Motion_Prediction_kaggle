{
 "cells": [
  {
   "cell_type": "markdown",
   "metadata": {},
   "source": [
    "## TARGET AND HISTORY PATH VISUALISATION"
   ]
  },
  {
   "cell_type": "code",
   "execution_count": 1,
   "metadata": {},
   "outputs": [],
   "source": [
    "import os\n",
    "import matplotlib.pyplot as plt\n",
    "import numpy as np\n",
    "from tqdm import tqdm\n",
    "from collections import Counter\n",
    "from prettytable import PrettyTable\n",
    "\n",
    "#l5kit imports  \n",
    "from l5kit.data import ChunkedDataset, LocalDataManager\n",
    "from l5kit.dataset import EgoDataset, AgentDataset\n",
    "from l5kit.rasterization import build_rasterizer\n",
    "from l5kit.configs import load_config_data\n",
    "from l5kit.visualization import draw_trajectory, TARGET_POINTS_COLOR\n",
    "from l5kit.geometry import transform_points\n",
    "from l5kit.data import PERCEPTION_LABELS\n",
    "from scipy import stats"
   ]
  },
  {
   "cell_type": "code",
   "execution_count": 3,
   "metadata": {},
   "outputs": [],
   "source": [
    "# set env variable for data\n",
    "os.environ[\"L5KIT_DATA_FOLDER\"] = \"lyft-motion-prediction-autonomous-vehicles/\"\n",
    "dm = LocalDataManager(None)"
   ]
  },
  {
   "cell_type": "code",
   "execution_count": 4,
   "metadata": {},
   "outputs": [],
   "source": [
    "cfg = {\n",
    "    'format_version': 4,\n",
    "    'model_params': {\n",
    "        'model_architecture': 'resnet50',\n",
    "        'history_num_frames': 10,\n",
    "        'history_step_size': 1,\n",
    "        'history_delta_time': 0.1,\n",
    "        'future_num_frames': 50,\n",
    "        'future_step_size': 1,\n",
    "        'future_delta_time': 0.1\n",
    "    },\n",
    "    \n",
    "    'raster_params': {\n",
    "        'raster_size': [224, 224],\n",
    "        'pixel_size': [0.5, 0.5],\n",
    "        'ego_center': [0.25, 0.5],\n",
    "        'map_type': 'py_semantic',\n",
    "        'semantic_map_key': 'semantic_map/semantic_map.pb',\n",
    "        'semantic_map_key': 'semantic_map/semantic_map.pb',\n",
    "        'dataset_meta_key': 'meta.json',\n",
    "        'filter_agents_threshold': 0.5,\n",
    "        'disable_traffic_light_faces': False\n",
    "    },\n",
    "    \n",
    "    'test_data_loader': {\n",
    "        'key': 'scenes/test.zarr',\n",
    "        'batch_size': 12,\n",
    "        'shuffle': False,\n",
    "        'num_workers': 0\n",
    "    },\n",
    "\n",
    "    'sample_data_loader': {\n",
    "        'key': 'scenes/sample.zarr',\n",
    "        'batch_size': 12,\n",
    "        'shuffle': False,\n",
    "        'num_workers': 4\n",
    "    }\n",
    "}"
   ]
  },
  {
   "cell_type": "markdown",
   "metadata": {},
   "source": [
    "## UTILITY FUNCTIONS"
   ]
  },
  {
   "cell_type": "code",
   "execution_count": 16,
   "metadata": {},
   "outputs": [],
   "source": [
    "def plot_history_pos(ax, data):\n",
    "    ax.plot(data['history_positions'][:,0], data['history_positions'])\n",
    "\n",
    "def plot_target_pos(ax, data):\n",
    "    ax.plot(data['target_positions'][:,0], data['target_positions'][:,1])"
   ]
  },
  {
   "cell_type": "code",
   "execution_count": 27,
   "metadata": {},
   "outputs": [],
   "source": [
    "def print_Dataset_Info(Dataset):\n",
    "    print('target_availabilities shape' , Dataset['target_availabilities'].shape)\n",
    "    print('target position shape' , Dataset['target_positions'].shape)\n",
    "    print('target yaw shape' , Dataset['target_yaws'].shape)\n",
    "    print('history_positions shape' , Dataset['history_positions'].shape)\n",
    "    print('history_yaws shape' , Dataset['history_yaws'].shape)\n",
    "    print('history_availabilities shape' , Dataset['history_availabilities'].shape)\n",
    "    print('image shape' , Dataset['image'].shape)    "
   ]
  },
  {
   "cell_type": "code",
   "execution_count": 28,
   "metadata": {},
   "outputs": [],
   "source": [
    "def plot_Dataset_bev(data):\n",
    "    temp = data['image'].transpose(1,2,0)\n",
    "    print('Input shape :', {data['image'].shape}, ' Output shape : ', {temp.shape})\n",
    "    plt.imshow(temp[:, :, -3:][::-1])"
   ]
  },
  {
   "cell_type": "code",
   "execution_count": 40,
   "metadata": {},
   "outputs": [],
   "source": [
    "def plot_2d_points(points2D):\n",
    "    plt.figure(figsize=(12, 8))\n",
    "    plt.plot(points2D[:,0], points2D[:,1])\n",
    "    plt.plot(points2D[:,0], points2D[:,1], 'go')\n",
    "    plt.axis('equal')\n",
    "    plt.grid(True)"
   ]
  },
  {
   "cell_type": "code",
   "execution_count": 34,
   "metadata": {},
   "outputs": [],
   "source": [
    "def plot_agent_history(data):\n",
    "    plt.figure(figsize=(100,100))\n",
    "    for i in range(cfg['model_params']['history_num_frames'] + 1):\n",
    "        plt.subplot(cfg['model_params']['history_num_frames'] + 1, 1, i+1)\n",
    "        plt.imshow(data['image'][i])\n",
    "    plt.show()"
   ]
  },
  {
   "cell_type": "code",
   "execution_count": 35,
   "metadata": {},
   "outputs": [],
   "source": [
    "def plot_av_history(data):\n",
    "    plt.figure(figsize=(100,100))\n",
    "    for i in range(cfg['model_params']['history_num_frames'] + 1):\n",
    "        plt.subplot(cfg['model_params']['history_num_frames'] + 1, 1, i+1)\n",
    "        plt.imshow(data['image'][i + cfg['model_params']['history_num_frames'] + 1])\n",
    "    plt.show()    "
   ]
  },
  {
   "cell_type": "markdown",
   "metadata": {},
   "source": [
    "## Sample data reading"
   ]
  },
  {
   "cell_type": "code",
   "execution_count": 5,
   "metadata": {},
   "outputs": [
    {
     "name": "stdout",
     "output_type": "stream",
     "text": [
      "CPU times: user 4.13 s, sys: 31.6 ms, total: 4.16 s\n",
      "Wall time: 4.44 s\n"
     ]
    }
   ],
   "source": [
    "%%time\n",
    "rasterizer = build_rasterizer(cfg, dm)"
   ]
  },
  {
   "cell_type": "code",
   "execution_count": 6,
   "metadata": {},
   "outputs": [
    {
     "name": "stdout",
     "output_type": "stream",
     "text": [
      "CPU times: user 0 ns, sys: 20.4 ms, total: 20.4 ms\n",
      "Wall time: 54 ms\n"
     ]
    }
   ],
   "source": [
    "%%time\n",
    "sample_zarr = ChunkedDataset(dm.require(cfg[\"sample_data_loader\"][\"key\"])).open()"
   ]
  },
  {
   "cell_type": "code",
   "execution_count": 7,
   "metadata": {},
   "outputs": [
    {
     "name": "stdout",
     "output_type": "stream",
     "text": [
      "CPU times: user 37.3 ms, sys: 42.4 ms, total: 79.8 ms\n",
      "Wall time: 110 ms\n"
     ]
    }
   ],
   "source": [
    "%%time\n",
    "sample_AgentDataset = AgentDataset(cfg, sample_zarr, rasterizer)"
   ]
  },
  {
   "cell_type": "code",
   "execution_count": 8,
   "metadata": {},
   "outputs": [
    {
     "name": "stdout",
     "output_type": "stream",
     "text": [
      "+------------+------------+------------+---------------+-----------------+----------------------+----------------------+----------------------+---------------------+\n",
      "| Num Scenes | Num Frames | Num Agents | Num TR lights | Total Time (hr) | Avg Frames per Scene | Avg Agents per Frame | Avg Scene Time (sec) | Avg Frame frequency |\n",
      "+------------+------------+------------+---------------+-----------------+----------------------+----------------------+----------------------+---------------------+\n",
      "|    100     |   24838    |  1893736   |     316008    |       0.69      |        248.38        |        76.24         |        24.83         |        10.00        |\n",
      "+------------+------------+------------+---------------+-----------------+----------------------+----------------------+----------------------+---------------------+\n"
     ]
    }
   ],
   "source": [
    "print(sample_AgentDataset)"
   ]
  },
  {
   "cell_type": "code",
   "execution_count": 9,
   "metadata": {},
   "outputs": [
    {
     "name": "stdout",
     "output_type": "stream",
     "text": [
      "Agents shape :  (1893736,)\n",
      "Frames shape :  (24838,)\n",
      "Scense shape :  (100,)\n"
     ]
    }
   ],
   "source": [
    "print('Agents shape : ', sample_zarr.agents.shape)\n",
    "print('Frames shape : ', sample_zarr.frames.shape)\n",
    "print('Scense shape : ', sample_zarr.scenes.shape)"
   ]
  },
  {
   "cell_type": "code",
   "execution_count": 10,
   "metadata": {},
   "outputs": [
    {
     "data": {
      "text/plain": [
       "111634"
      ]
     },
     "execution_count": 10,
     "metadata": {},
     "output_type": "execute_result"
    }
   ],
   "source": [
    "len(sample_AgentDataset)"
   ]
  },
  {
   "cell_type": "code",
   "execution_count": 11,
   "metadata": {},
   "outputs": [
    {
     "data": {
      "text/plain": [
       "dict_keys(['image', 'target_positions', 'target_yaws', 'target_availabilities', 'history_positions', 'history_yaws', 'history_availabilities', 'world_to_image', 'raster_from_world', 'raster_from_agent', 'agent_from_world', 'world_from_agent', 'track_id', 'timestamp', 'centroid', 'yaw', 'extent'])"
      ]
     },
     "execution_count": 11,
     "metadata": {},
     "output_type": "execute_result"
    }
   ],
   "source": [
    "temp = sample_AgentDataset[20]\n",
    "temp.keys()"
   ]
  },
  {
   "cell_type": "code",
   "execution_count": 51,
   "metadata": {},
   "outputs": [
    {
     "data": {
      "text/plain": [
       "array([1.6454978, 0.6536734, 1.6955528], dtype=float32)"
      ]
     },
     "execution_count": 51,
     "metadata": {},
     "output_type": "execute_result"
    }
   ],
   "source": [
    "temp['extent']"
   ]
  },
  {
   "cell_type": "code",
   "execution_count": 12,
   "metadata": {},
   "outputs": [],
   "source": [
    "np.random.seed(1004)\n",
    "SAMPLES_TO_PLOT = 50\n",
    "sampled_indices = np.random.randint(0, len(sample_AgentDataset), (SAMPLES_TO_PLOT,))"
   ]
  },
  {
   "cell_type": "markdown",
   "metadata": {},
   "source": [
    "## TARGET POSITIONS IN AGENT FRAME"
   ]
  },
  {
   "cell_type": "code",
   "execution_count": 36,
   "metadata": {
    "scrolled": true
   },
   "outputs": [
    {
     "data": {
      "image/png": "[encoded data removed]",
      "text/plain": [
       "<Figure size 720x720 with 1 Axes>"
      ]
     },
     "metadata": {
      "needs_background": "light"
     },
     "output_type": "display_data"
    }
   ],
   "source": [
    "fig, ax = plt.subplots(figsize = (10,10)) #1,1,\n",
    "ax.grid(True)\n",
    "ax.set_aspect('equal', 'box')\n",
    "ax.set_xlim([-5, 20])\n",
    "ax.set_ylim([-5, 5])\n",
    "\n",
    "for i in range(SAMPLES_TO_PLOT):\n",
    "    plot_target_pos(ax, sample_AgentDataset[sampled_indices[i]])"
   ]
  },
  {
   "cell_type": "markdown",
   "metadata": {},
   "source": [
    "## HISTORY POSITIONS IN AGENT FRAME"
   ]
  },
  {
   "cell_type": "code",
   "execution_count": 37,
   "metadata": {},
   "outputs": [
    {
     "data": {
      "image/png": "[encoded data removed]",
      "text/plain": [
       "<Figure size 720x720 with 1 Axes>"
      ]
     },
     "metadata": {
      "needs_background": "light"
     },
     "output_type": "display_data"
    }
   ],
   "source": [
    "fig, ax = plt.subplots(figsize = (10,10)) #1,1,\n",
    "ax.grid(True)\n",
    "ax.set_aspect('equal', 'box')\n",
    "ax.set_xlim([-20, 5])\n",
    "ax.set_ylim([-5, 5])\n",
    "\n",
    "for i in range(SAMPLES_TO_PLOT):\n",
    "    plot_history_pos(ax, sample_AgentDataset[sampled_indices[i]])"
   ]
  },
  {
   "cell_type": "code",
   "execution_count": 38,
   "metadata": {},
   "outputs": [],
   "source": [
    "TEST_INDEX = 50\n",
    "data = sample_AgentDataset[TEST_INDEX]"
   ]
  },
  {
   "cell_type": "code",
   "execution_count": 41,
   "metadata": {},
   "outputs": [
    {
     "data": {
      "image/png": "[encoded data removed]",
      "text/plain": [
       "<Figure size 864x576 with 1 Axes>"
      ]
     },
     "metadata": {
      "needs_background": "light"
     },
     "output_type": "display_data"
    }
   ],
   "source": [
    "agents_coords = data['target_positions']\n",
    "plot_2d_points(agents_coords)"
   ]
  },
  {
   "cell_type": "markdown",
   "metadata": {},
   "source": [
    "## TARGET POSITIONS IN WORLD FRAME"
   ]
  },
  {
   "cell_type": "code",
   "execution_count": 42,
   "metadata": {},
   "outputs": [
    {
     "data": {
      "text/plain": [
       "array([[ 8.49651368e-01,  5.27344814e-01,  9.04762512e+02],\n",
       "       [-5.27344814e-01,  8.49651368e-01, -1.51283508e+03],\n",
       "       [ 0.00000000e+00,  0.00000000e+00,  1.00000000e+00]])"
      ]
     },
     "execution_count": 42,
     "metadata": {},
     "output_type": "execute_result"
    }
   ],
   "source": [
    "world_from_agents = data[\"world_from_agent\"]\n",
    "world_from_agents"
   ]
  },
  {
   "cell_type": "code",
   "execution_count": 44,
   "metadata": {},
   "outputs": [
    {
     "data": {
      "text/plain": [
       "array([  904.76251221, -1512.83508301])"
      ]
     },
     "execution_count": 44,
     "metadata": {},
     "output_type": "execute_result"
    }
   ],
   "source": [
    "centroids = data[\"centroid\"]\n",
    "centroids"
   ]
  },
  {
   "cell_type": "code",
   "execution_count": 49,
   "metadata": {},
   "outputs": [
    {
     "data": {
      "text/plain": [
       "(50, 2)"
      ]
     },
     "execution_count": 49,
     "metadata": {},
     "output_type": "execute_result"
    }
   ],
   "source": [
    "t = transform_points(agents_coords, world_from_agents) - centroids[:2]\n",
    "t.shape"
   ]
  },
  {
   "cell_type": "code",
   "execution_count": 50,
   "metadata": {},
   "outputs": [
    {
     "data": {
      "image/png": "[encoded data removed]",
      "text/plain": [
       "<Figure size 864x576 with 1 Axes>"
      ]
     },
     "metadata": {
      "needs_background": "light"
     },
     "output_type": "display_data"
    }
   ],
   "source": [
    "plot_2d_points(t)"
   ]
  }
 ],
 "metadata": {
  "kernelspec": {
   "display_name": "Python(lyft_kaggle)",
   "language": "python",
   "name": "lyft"
  },
  "language_info": {
   "codemirror_mode": {
    "name": "ipython",
    "version": 3
   },
   "file_extension": ".py",
   "mimetype": "text/x-python",
   "name": "python",
   "nbconvert_exporter": "python",
   "pygments_lexer": "ipython3",
   "version": "3.6.12"
  }
 },
 "nbformat": 4,
 "nbformat_minor": 4
}
