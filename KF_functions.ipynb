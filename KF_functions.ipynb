{
 "cells": [
  {
   "cell_type": "markdown",
   "metadata": {},
   "source": [
    "## UKF HELPER FUNCTIONS"
   ]
  },
  {
   "cell_type": "code",
   "execution_count": 1,
   "metadata": {},
   "outputs": [],
   "source": [
    "import pykalman"
   ]
  },
  {
   "cell_type": "code",
   "execution_count": 2,
   "metadata": {},
   "outputs": [],
   "source": [
    "import numpy as np\n",
    "import matplotlib.pyplot as plt"
   ]
  },
  {
   "cell_type": "code",
   "execution_count": 3,
   "metadata": {},
   "outputs": [],
   "source": [
    "def coordinatedTurnMotion(x, T):\n",
    "    \"\"\"\n",
    "    COORDINATEDTURNMOTION calculates the predicted state using a coordinated\n",
    "    turn motion model, and also calculated the motion model Jacobian\n",
    "\n",
    "    Input:\n",
    "       x           [5 x 1] state vector\n",
    "       T           [1 x 1] Sampling time\n",
    "\n",
    "    Output:\n",
    "       fx          [5 x 1] motion model evaluated at state x\n",
    "       Fx          [5 x 5] motion model Jacobian evaluated at state x\n",
    "\n",
    "     NOTE: the motion model assumes that the state vector x consist of the\n",
    "     following states:\n",
    "       px          X-position\n",
    "       py          Y-position\n",
    "       v           velocity\n",
    "       phi         heading\n",
    "       omega       turn-rate\n",
    "    \"\"\"\n",
    "    fx = np.array([\n",
    "            x[0] + (T *x[2]* np.cos(x[3])),\n",
    "            x[1] + (T *x[2]* np.sin(x[3])),\n",
    "            x[2]                      ,\n",
    "            x[3] + T *x[4]            ,\n",
    "            x[4]                      \n",
    "        ]).reshape((5,1))\n",
    "\n",
    "    Fx = np.array([\n",
    "            [ 1, 0, T * np.cos(x[3]), -T * x[2] * np.sin(x[3]), 0],        \n",
    "            [ 0, 1, T * np.sin(x[3]),  T * x[2] * np.cos(x[3]), 0],\n",
    "            [ 0, 0, 1               ,  0                      , 0],\n",
    "            [ 0, 0, 0               ,  1                      , T],\n",
    "            [ 0, 0, 0               ,  0                      , 1]\n",
    "        ])\n",
    "\n",
    "    return fx, Fx"
   ]
  },
  {
   "cell_type": "code",
   "execution_count": 17,
   "metadata": {},
   "outputs": [],
   "source": [
    "def sigmaPoints(x, P, kf_type):\n",
    "    \"\"\"\n",
    "    SIGMAPOINTS computes sigma points, either using unscented transform or using cubature.\n",
    "\n",
    "    Input:\n",
    "       x           [n x 1] Prior mean\n",
    "       P           [n x n] Prior covariance\n",
    "\n",
    "    Output:\n",
    "       SP          [n x 2n+1] UKF, [n x 2n] CKF. Matrix with sigma points\n",
    "       W           [1 x 2n+1] UKF, [1 x 2n] UKF. Vector with sigma point weights \n",
    "    \"\"\"\n",
    "    \n",
    "    n = x.shape[0] # state vector size\n",
    "    \n",
    "    if(kf_type =='UKF'):\n",
    "        # initialise the variables\n",
    "        SP = np.zeros((n, 2*n + 1))\n",
    "        W  = np.zeros((2*n + 1))\n",
    "\n",
    "        # calculating the weights\n",
    "        W_0   = 1 - (n/3)\n",
    "        W[0]  = W_0\n",
    "        W[1:] = (1 - W_0) / (2*n)\n",
    "\n",
    "        # sigma points\n",
    "        P_root = np.linalg.cholesky(P) # lower triangular matrix by default\n",
    "        factor = np.sqrt(n / (1- W_0))\n",
    "\n",
    "        SP[:,0] = x.flatten();            \n",
    "        for i in range(n):\n",
    "            SP[:,i+1]   = x.flatten()  + (factor * P_root[:,i]).flatten();\n",
    "            SP[:,i+1+n] = x.flatten()  - (factor * P_root[:,i]).flatten();\n",
    "        \n",
    "    return SP, W"
   ]
  },
  {
   "cell_type": "code",
   "execution_count": 5,
   "metadata": {},
   "outputs": [],
   "source": [
    "def nonLinKFprediction(x, P, f, Q, kf_type):\n",
    "    \"\"\"\n",
    "    NONLINKFPREDICTION calculates mean and covariance of predicted state\n",
    "       density using a non-linear Gaussian model.\n",
    "\n",
    "    Input:\n",
    "       x           [n x 1] Prior mean\n",
    "       P           [n x n] Prior covariance\n",
    "       f           Motion model function handle\n",
    "                   [fx,Fx]=f(x) \n",
    "                   Takes as input x (state), \n",
    "                   Returns fx and Fx, motion model and Jacobian evaluated at x\n",
    "                   All other model parameters, such as sample time T,\n",
    "                   must be included in the function\n",
    "       Q           [n x n] Process noise covariance\n",
    "       type        String that specifies the type of non-linear filter\n",
    "\n",
    "    Output:\n",
    "       x           [n x 1] predicted state mean\n",
    "       P           [n x n] predicted state covariance\n",
    "    \"\"\"\n",
    "\n",
    "    if(kf_type =='UKF'):\n",
    "        \n",
    "        # generatesigma points\n",
    "        SP,W = sigmaPoints(x, P, kf_type)\n",
    "\n",
    "        # find the approximate mean          \n",
    "        x_new = np.zeros(x.shape);\n",
    "        for index in range (1, SP.shape[1]):\n",
    "            predicted_sigma_pts, jac_fx = f(SP[:, index]); \n",
    "            x_new = x_new + (predicted_sigma_pts * W[index])\n",
    "\n",
    "        # find the approximate covariance\n",
    "        P_new = Q;\n",
    "        for index in range (1, SP.shape[1]):\n",
    "            predicted_sigma_pts, jac_fx = f(SP[:, index])  \n",
    "            sigma_pt_variance = (predicted_sigma_pts - x_new) @ (predicted_sigma_pts - x_new).T\n",
    "            P_new = P_new + (sigma_pt_variance * W[index])\n",
    "\n",
    "        x = x_new;\n",
    "        P = P_new;\n",
    "    \n",
    "    return x, P"
   ]
  },
  {
   "cell_type": "code",
   "execution_count": 6,
   "metadata": {},
   "outputs": [],
   "source": [
    "def linearUpdate(x, P, y, H, R):\n",
    "    \"\"\"\n",
    "    LINEARUPDATE calculates mean and covariance of updated state\n",
    "       density using a linear Gaussian model.\n",
    "\n",
    "    Input:\n",
    "       x           [n x 1] Prior mean\n",
    "       P           [n x n] Prior covariance\n",
    "       y           [m x 1] Measurement\n",
    "       H           [m x n] Measurement model matrix\n",
    "       R           [m x m] Measurement noise covariance\n",
    "\n",
    "    Output:\n",
    "       x           [n x 1] updated state mean\n",
    "       P           [n x n] updated state covariance\n",
    "    \"\"\"\n",
    "    vk = y - H @ x\n",
    "    S  = (H @ P @ H.T) + R\n",
    "    Kalman_gain = P @ H.T @ np.linalg.inv(S)\n",
    "\n",
    "    x = x + Kalman_gain @ vk\n",
    "    P = P - (Kalman_gain @ S @ Kalman_gain.T)\n",
    "    \n",
    "    return x, P"
   ]
  },
  {
   "cell_type": "code",
   "execution_count": 19,
   "metadata": {},
   "outputs": [],
   "source": [
    "def nonLinearKalmanFilter(Y, x_0, P_0, f, Q, H, R, kf_type = 'UKF'):\n",
    "    \"\"\"\n",
    "        NONLINEARKALMANFILTER Filters measurement sequence Y using a \n",
    "         non-linear Kalman filter. \n",
    "\n",
    "        Input:\n",
    "           Y           [m x N] Measurement sequence for times 1,...,N\n",
    "           x_0         [n x 1] Prior mean for time 0\n",
    "           P_0         [n x n] Prior covariance\n",
    "           f                   Motion model function handle\n",
    "                               [fx,Fx]=f(x) \n",
    "                               Takes as input x (state) \n",
    "                               Returns fx and Fx, motion model and Jacobian evaluated at x\n",
    "           Q           [n x n] Process noise covariance\n",
    "           H           [m x n] Returns hx and Hx, measurement model and Jacobian evaluated at x\n",
    "           R           [m x m] Measurement noise covariance\n",
    "\n",
    "        Output:\n",
    "           xf          [n x N]     Filtered estimates for times 1,...,N\n",
    "           Pf          [n x n x N] Filter error convariance\n",
    "           xp          [n x N]     Predicted estimates for times 1,...,N\n",
    "           Pp          [n x n x N] Filter error convariance\n",
    "    \"\"\"\n",
    "\n",
    "    # Parameters\n",
    "    N = Y.shape[1]    # timesteps\n",
    "    n = x_0.shape[0]  # state size\n",
    "    m = Y.shape[0]    # measuremnent size\n",
    "\n",
    "    # Data allocation    \n",
    "    xf = np.zeros((n,N))\n",
    "    Pf = np.zeros((n,n,N))\n",
    "    \n",
    "    # initial value for estimates\n",
    "    xk  = x_0\n",
    "    Pk = P_0\n",
    "    \n",
    "    for i in range(0,N):\n",
    "        # prediction step: compute p(x_k | y_1:k-1) from p(x_k-1 | y_1:k-1)\n",
    "        xp, Pp = nonLinKFprediction(xk, Pk, f, Q, kf_type)\n",
    "        \n",
    "        print(xp.shape, Pp.shape)\n",
    "        # update step: compute p(x_k | y_1:k) from p(x_k | y_1:k-1)\n",
    "        xk, Pk = linearUpdate(xp, Pp, Y[:,i], H, R)\n",
    "        \n",
    "        xf[:, i]  = xk\n",
    "        Pf[:,:,i] = Pk\n",
    "    \n",
    "    return xf, Pf"
   ]
  },
  {
   "cell_type": "code",
   "execution_count": 8,
   "metadata": {},
   "outputs": [
    {
     "name": "stderr",
     "output_type": "stream",
     "text": [
      "/home/wabco/miniconda3/envs/lyft/lib/python3.6/site-packages/pykalman/unscented.py:867: RuntimeWarning: covariance is not positive-semidefinite.\n",
      "  observation_covariance.newbyteorder('=')\n"
     ]
    },
    {
     "data": {
      "image/png": "[encoded data removed]",
      "text/plain": [
       "<Figure size 432x288 with 1 Axes>"
      ]
     },
     "metadata": {
      "needs_background": "light"
     },
     "output_type": "display_data"
    }
   ],
   "source": [
    "import pylab as pl\n",
    "from pykalman import AdditiveUnscentedKalmanFilter, UnscentedKalmanFilter\n",
    "\n",
    "# initialize parameters\n",
    "def transition_function(state, noise):\n",
    "    a = state[0] * np.sin(state[1]) + noise[0]\n",
    "    b = state[1] + noise[1]\n",
    "    return np.array([a, b])\n",
    "\n",
    "def observation_function(state, noise):\n",
    "    C = np.array([[-1, 0.5], [0.2, 0.1]])\n",
    "    return np.dot(C, state) + noise\n",
    "\n",
    "def additive_transition_function(state):\n",
    "    return transition_function(state, np.array([0, 0]))\n",
    "\n",
    "def additive_observation_function(state):\n",
    "    return observation_function(state, np.array([0, 0]))\n",
    "\n",
    "transition_covariance = np.eye(2)\n",
    "random_state = np.random.RandomState(0)\n",
    "observation_covariance = np.eye(2) + random_state.randn(2, 2) * 0.1\n",
    "initial_state_mean = [0, 0]\n",
    "initial_state_covariance = [[1, 0.1], [ 0.1, 1]]\n",
    "\n",
    "# sample from model\n",
    "ukf = UnscentedKalmanFilter(\n",
    "    transition_function, observation_function,\n",
    "    transition_covariance, observation_covariance,\n",
    "    initial_state_mean, initial_state_covariance,\n",
    "    random_state=random_state\n",
    ")\n",
    "akf = AdditiveUnscentedKalmanFilter(\n",
    "    additive_transition_function, additive_observation_function,\n",
    "    transition_covariance, observation_covariance,\n",
    "    initial_state_mean, initial_state_covariance\n",
    ")\n",
    "states, observations = ukf.sample(50, initial_state_mean)\n",
    "\n",
    "# estimate state with filtering\n",
    "ukf_state_estimates = ukf.filter(observations)[0]\n",
    "akf_state_estimates = akf.filter(observations)[0]\n",
    "\n",
    "# draw estimates\n",
    "pl.figure()\n",
    "lines_true = pl.plot(states, color='b')\n",
    "lines_ukf = pl.plot(ukf_state_estimates, color='r', ls='-')\n",
    "lines_akf = pl.plot(akf_state_estimates, color='g', ls='-.')\n",
    "pl.legend((lines_true[0], lines_ukf[0], lines_akf[0]),\n",
    "          ('true', 'UKF', 'AddUKF'),\n",
    "          loc='upper left'\n",
    ")\n",
    "pl.show()"
   ]
  },
  {
   "cell_type": "code",
   "execution_count": 9,
   "metadata": {},
   "outputs": [],
   "source": [
    "def temp_additive_transition_function(state):\n",
    "    return transition_function(state, np.array([0, 0])), 0\n",
    "\n",
    "C = np.array([[-1, 0.5], [0.2, 0.1]])"
   ]
  },
  {
   "cell_type": "code",
   "execution_count": 20,
   "metadata": {},
   "outputs": [
    {
     "name": "stdout",
     "output_type": "stream",
     "text": [
      "(2, 2) (2, 2)\n"
     ]
    },
    {
     "ename": "ValueError",
     "evalue": "could not broadcast input array from shape (2,2) into shape (2)",
     "output_type": "error",
     "traceback": [
      "\u001b[0;31m---------------------------------------------------------------------------\u001b[0m",
      "\u001b[0;31mValueError\u001b[0m                                Traceback (most recent call last)",
      "\u001b[0;32m<ipython-input-20-761894e353f8>\u001b[0m in \u001b[0;36m<module>\u001b[0;34m\u001b[0m\n\u001b[1;32m      2\u001b[0m                       \u001b[0mnp\u001b[0m\u001b[0;34m.\u001b[0m\u001b[0marray\u001b[0m\u001b[0;34m(\u001b[0m\u001b[0minitial_state_covariance\u001b[0m\u001b[0;34m)\u001b[0m\u001b[0;34m,\u001b[0m\u001b[0;34m\u001b[0m\u001b[0;34m\u001b[0m\u001b[0m\n\u001b[1;32m      3\u001b[0m                       \u001b[0mtemp_additive_transition_function\u001b[0m\u001b[0;34m,\u001b[0m \u001b[0mtransition_covariance\u001b[0m\u001b[0;34m,\u001b[0m\u001b[0;34m\u001b[0m\u001b[0;34m\u001b[0m\u001b[0m\n\u001b[0;32m----> 4\u001b[0;31m                       C, observation_covariance, 'UKF')\n\u001b[0m",
      "\u001b[0;32m<ipython-input-19-679b63a2e4ee>\u001b[0m in \u001b[0;36mnonLinearKalmanFilter\u001b[0;34m(Y, x_0, P_0, f, Q, H, R, kf_type)\u001b[0m\n\u001b[1;32m     44\u001b[0m         \u001b[0mxk\u001b[0m\u001b[0;34m,\u001b[0m \u001b[0mPk\u001b[0m \u001b[0;34m=\u001b[0m \u001b[0mlinearUpdate\u001b[0m\u001b[0;34m(\u001b[0m\u001b[0mxp\u001b[0m\u001b[0;34m,\u001b[0m \u001b[0mPp\u001b[0m\u001b[0;34m,\u001b[0m \u001b[0mY\u001b[0m\u001b[0;34m[\u001b[0m\u001b[0;34m:\u001b[0m\u001b[0;34m,\u001b[0m\u001b[0mi\u001b[0m\u001b[0;34m]\u001b[0m\u001b[0;34m,\u001b[0m \u001b[0mH\u001b[0m\u001b[0;34m,\u001b[0m \u001b[0mR\u001b[0m\u001b[0;34m)\u001b[0m\u001b[0;34m\u001b[0m\u001b[0;34m\u001b[0m\u001b[0m\n\u001b[1;32m     45\u001b[0m \u001b[0;34m\u001b[0m\u001b[0m\n\u001b[0;32m---> 46\u001b[0;31m         \u001b[0mxf\u001b[0m\u001b[0;34m[\u001b[0m\u001b[0;34m:\u001b[0m\u001b[0;34m,\u001b[0m \u001b[0mi\u001b[0m\u001b[0;34m]\u001b[0m  \u001b[0;34m=\u001b[0m \u001b[0mxk\u001b[0m\u001b[0;34m\u001b[0m\u001b[0;34m\u001b[0m\u001b[0m\n\u001b[0m\u001b[1;32m     47\u001b[0m         \u001b[0mPf\u001b[0m\u001b[0;34m[\u001b[0m\u001b[0;34m:\u001b[0m\u001b[0;34m,\u001b[0m\u001b[0;34m:\u001b[0m\u001b[0;34m,\u001b[0m\u001b[0mi\u001b[0m\u001b[0;34m]\u001b[0m \u001b[0;34m=\u001b[0m \u001b[0mPk\u001b[0m\u001b[0;34m\u001b[0m\u001b[0;34m\u001b[0m\u001b[0m\n\u001b[1;32m     48\u001b[0m \u001b[0;34m\u001b[0m\u001b[0m\n",
      "\u001b[0;31mValueError\u001b[0m: could not broadcast input array from shape (2,2) into shape (2)"
     ]
    }
   ],
   "source": [
    "xt, pt = nonLinearKalmanFilter(observations.T, np.array(initial_state_mean).reshape(2,1), \n",
    "                      np.array(initial_state_covariance), \n",
    "                      temp_additive_transition_function, transition_covariance, \n",
    "                      C, observation_covariance, 'UKF')"
   ]
  },
  {
   "cell_type": "code",
   "execution_count": null,
   "metadata": {},
   "outputs": [],
   "source": []
  }
 ],
 "metadata": {
  "kernelspec": {
   "display_name": "Python(lyft_kaggle)",
   "language": "python",
   "name": "lyft"
  },
  "language_info": {
   "codemirror_mode": {
    "name": "ipython",
    "version": 3
   },
   "file_extension": ".py",
   "mimetype": "text/x-python",
   "name": "python",
   "nbconvert_exporter": "python",
   "pygments_lexer": "ipython3",
   "version": "3.6.12"
  }
 },
 "nbformat": 4,
 "nbformat_minor": 4
}
